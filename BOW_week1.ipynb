{
  "nbformat": 4,
  "nbformat_minor": 0,
  "metadata": {
    "colab": {
      "name": "BOW_week1.ipynb",
      "provenance": [],
      "collapsed_sections": [
        "DcOhb2dapcEG",
        "0ccKhFfsHp5i",
        "4Cj6Y6OPHwDF"
      ],
      "toc_visible": true,
      "mount_file_id": "1EAVLEQ9pf0lKdrk9jwz9ba0n24Zm8XgZ",
      "authorship_tag": "ABX9TyOgeL7pmhsvAh0H9xqObo7K",
      "include_colab_link": true
    },
    "kernelspec": {
      "name": "python3",
      "display_name": "Python 3"
    },
    "language_info": {
      "name": "python"
    }
  },
  "cells": [
    {
      "cell_type": "markdown",
      "metadata": {
        "id": "view-in-github",
        "colab_type": "text"
      },
      "source": [
        "<a href=\"https://colab.research.google.com/github/MariGaS/Proyecto_Tecnologico/blob/main/BOW_week1.ipynb\" target=\"_parent\"><img src=\"https://colab.research.google.com/assets/colab-badge.svg\" alt=\"Open In Colab\"/></a>"
      ]
    },
    {
      "cell_type": "code",
      "source": [
        "from sklearn.feature_extraction.text import TfidfVectorizer, CountVectorizer\n",
        "from sklearn.feature_selection import SelectKBest, chi2\n",
        "import scipy.sparse as sp\n",
        "from time import time\n",
        "import numpy as np\n",
        "import os\n",
        "import re\n",
        "from os import listdir\n",
        "from os.path import isfile, join\n"
      ],
      "metadata": {
        "id": "fs21Iz0m69Wm"
      },
      "execution_count": null,
      "outputs": []
    },
    {
      "cell_type": "code",
      "source": [
        "from sklearn.model_selection import train_test_split"
      ],
      "metadata": {
        "id": "a0nixVSlIb7a"
      },
      "execution_count": null,
      "outputs": []
    },
    {
      "cell_type": "markdown",
      "source": [
        "#Depression 2022\n"
      ],
      "metadata": {
        "id": "DcOhb2dapcEG"
      }
    },
    {
      "cell_type": "markdown",
      "source": [
        "## Using xlm.etree for text extration"
      ],
      "metadata": {
        "id": "Rl2x4D9ywJ9x"
      }
    },
    {
      "cell_type": "code",
      "source": [
        "import xml.etree.ElementTree as ET #library for read xml archives "
      ],
      "metadata": {
        "id": "mMIlTnpLqMcc"
      },
      "execution_count": null,
      "outputs": []
    },
    {
      "cell_type": "code",
      "source": [
        "tree = ET.parse('/content/drive/MyDrive/Proyecto_Tecnologico/Data/depression2022/training data/2017 cases/pos/test_subject1345.xml') #we defined the tree with the archive, this command parse the .xml"
      ],
      "metadata": {
        "id": "OI6HpZ6wnUWl"
      },
      "execution_count": null,
      "outputs": []
    },
    {
      "cell_type": "code",
      "source": [
        "root = tree.getroot() #obtained the root of the archive, root[0] correspond to the id user , root[1], root[2], etc correspond to WRITING tag"
      ],
      "metadata": {
        "id": "k4HSXK8hpTvK"
      },
      "execution_count": null,
      "outputs": []
    },
    {
      "cell_type": "code",
      "source": [
        "root[22][3].text #for each writing tag we can acces to the text indexing the writinig like root[i][3].text"
      ],
      "metadata": {
        "colab": {
          "base_uri": "https://localhost:8080/",
          "height": 36
        },
        "id": "Iru7f5Zmph3R",
        "outputId": "03685757-08fd-42e7-dca3-c9b45a04a291"
      },
      "execution_count": null,
      "outputs": [
        {
          "output_type": "execute_result",
          "data": {
            "text/plain": [
              "' BRYCE MVP CONFIRMED  '"
            ],
            "application/vnd.google.colaboratory.intrinsic+json": {
              "type": "string"
            }
          },
          "metadata": {},
          "execution_count": 6
        }
      ]
    },
    {
      "cell_type": "code",
      "source": [
        "hist_post = [] # list with entries from the user \n",
        "\n",
        "#iterate recursively over all the sub-tree \n",
        "#source : https://docs.python.org/3/library/xml.etree.elementtree.html\n",
        "for post in root.iter('TEXT'): \n",
        "    entry = post.text\n",
        "    entry = entry.replace('\\n', ' ') \n",
        "    entry = entry.replace(\"\\'\",\"'\") \n",
        "\n",
        "    if entry == ' ' or entry == '  ':\n",
        "        continue \n",
        "    else: \n",
        "        hist_post.append(entry[1:-1])"
      ],
      "metadata": {
        "id": "sJyFbayvpod2"
      },
      "execution_count": null,
      "outputs": []
    },
    {
      "cell_type": "code",
      "source": [
        "for i,n in enumerate(hist_post):\n",
        "    print(i,n)"
      ],
      "metadata": {
        "colab": {
          "base_uri": "https://localhost:8080/"
        },
        "id": "4k-3AmW0yNXb",
        "outputId": "9fbf20e3-aea4-439f-c494-1481cae90d04"
      },
      "execution_count": null,
      "outputs": [
        {
          "output_type": "stream",
          "name": "stdout",
          "text": [
            "0 So many unwanted Smith fadeaways.\n",
            "1 Hey guys, Celtics fan here pulling hard for the Rockets to win it all. Huge Harden fan. I'm wondering if anybody has a stat of how many total mid range jumpers the Rockets took during the regular season. I know they don't take many, even less before Josh Smith, but if anybody has the total that'd be sweet. Go Rockets!\n",
            "2 Well he got 2 tonight so maybe he'll be able to scrape together some AB's. I agree with you though\n",
            "3 I mean he'll get pinch hits and an occasional day but I'm afraid he's gonna lose his swing or something\n",
            "4 Yeah you're probably right. Oh well. \n",
            "5 I guess that's true. You make a valid point\n",
            "6 but he's just watching. he's not going to get any playing time with our core back and healthy and playing so well, I would just rather him stay hot and keep hitting.\n",
            "7 I just think I'd rather have him getting everyday at bats instead of sitting on our bench with Clint Robinson and Danny. I'd rather him getting the consistent at bats even if it is against AAA pitchers. What do you guys think?\n",
            "8 Why can't Carpenter be good against everyone but us. Curse you fantasy...\n",
            "9 I can only assume \"cash\" means we're getting [this guy.](http://www.korkedbats.com/wp-content/uploads/2014/08/LLWS-Pics-Cash-Money-2.jpg)\n",
            "10 Bryce=GOAT\n",
            "11 I have Carpenter and Heyward on my fantasy so I don't know what I want. Just kidding, FUCK THE CARDS \n",
            "12 Kelly GOATlynyk putting on a Kelly Oclinic right now\n",
            "13 #STOREIT\n",
            "14 Hey guys, we're winning. This is crazy. Guys check it out!\n",
            "15 I know I'm 5 months late to this, but I need this. So thank you person, thank you\n",
            "16 Go dukes!\n",
            "17 6 unearned runs in this series arguably all because of Desmond's April woes. Unbelievable. \n",
            "18 Yeah 106.7 the fan is really good, unless you're not in the DC area then you won't get that, and then I'm no help...\n",
            "19 Still would rather den Dekker out there...\n",
            "20 161-1 HERE WE COME!!!!!\n",
            "21 BRYCE MVP CONFIRMED \n",
            "22 Kelly Olynyk, and that's it\n",
            "23 AAHHHHHH!!!!!\n",
            "24 Proving that not every statistic is interesting.\n",
            "25 boooo\n",
            "26 Guess who just voted for the Yard Goats as my 1st, 2nd, and 3rd place choices! Goat images/facts please\n",
            "27 Skipped my first 2 classes because of this exact thing.  Thanks for bringing a smile to my face.\n",
            "28 What did I just read.\n",
            "29 That's what I'm thinking\n",
            "30 https://twitter.com/realtonytiger/status/570266932626067456?s=09\n",
            "31 I went from jmu today and it was fine so if you go tomorrow morning you should be okay. I went the Cass way. Hope this helps\n",
            "32 Somebody please help all of us. Please.\n",
            "33 Yeah let me know if you plan on going up though! I'm always down to shred snowshoe if I have the money\n",
            "34 I go to jmu (obligatory \"fuck vt\") but I would definitely try to make it up for a weekend. I don't know if I'd be able to do this year (moneys) but in the future for sure!\n",
            "35 10 minutes from school so I'll definitely hit you up next time I'm there!\n",
            "36 10 minutes from school so I'll definitely hit you up next time I'm there!\n",
            "37 Masturbate on an airplane\n",
            "38 I think it should be AB. He's really grown as a player in the last couple years in terms of scoring. He's stored off a little bit recently so I think making him captain would really get his confidence back up\n",
            "39 Hey LD. Huge fan! From one kike to another, I was wondering if it's at all scary constantly knowing the cops are after you because you're such a white criminal? #whitecrime\n",
            "40 that's why when I first listened to it I was skeptical but it's so great for some reason\n",
            "41 Acid Rap album by Chance the Rapper. This on repeat throughout the day is oddly satisfying\n",
            "42 I'm just very upset that we blew it somehow. You can understand why\n",
            "43 And here I was telling everyone how great Kelly is and how everybody should love him and how the Celtics totally aren't gonna blow it.....they blew it\n",
            "44 for some reason Smart has flopped a couple times since he's started playing, which is surprising to me\n",
            "45 god awful. take a lap\n",
            "46 Definitely take a sticker over here!\n",
            "47 What happens if it's so bad I do worse than 1000th place?\n",
            "48 Click \"Family comes first\"\n",
            "49 Just replying so I can come back later on my desktop\n",
            "50 Mary Ann\n",
            "51 Lincoln\n",
            "52 You deserve gold my friend\n",
            "53 He does this every game at one time or another. Look for it every time you go to a game. I sit there every time and it happens every time\n",
            "54 If you're in town you should show me some good spots!\n",
            "55 It's a shame. The university kinda sucks but hey they got good pizza.\n",
            "56 Flying out there December 22nd!\n",
            "57 I went last summer and my friend and I had the park to ourselves after 8:00. It really is worth the trip.  It's a little jarring at first but trust me if you don't love to far (I live 4 hours away) it's totally worth it.\n",
            "58 christmas at breck can't come soon enough\n",
            "59 If you don't mind me asking\n",
            "60 How much were they though?\n",
            "61 I did that for my dc's and it's amazing. Good call. Thank you. It doesn't hurt that they are gorgeous boots\n",
            "62 Definitely about to pick those up. Thank you\n",
            "63 And they're quality? I've never bought vans snowboard apparel. Can I trust em?\n",
            "64 Yeah my local shop seeks last year's model for cheap so I might get em! Thanks\n",
            "65 How much did you get them for?\n",
            "66 How many seasons have you gotten out of them?\n",
            "67 Yeah my local shop does a huge last season's model sale so I'm gonna head down in these next few days. I ride dc's now. I got a good 3 seasons out of em but they're shot. Thanks for the advice\n",
            "68 I am beyond jealous\n",
            "69 Hey guys. I think we can ask agree we're ready for winter already. With that being said I need new boots. To be honest I've done zero research so any opinions would be fine. I'm looking for a durable but comfortable style. If you like your boots par tell me what they are. Thanks so much fellas\n",
            "70 Hey Nathan I am a huge fan and I've seen every episode.   I just want to ask about the girl Rachel. Is that actually how she is or do you exaggerate the awkwardness for the camera? Also when you get her for more than one segment (The Hunk and Quiznos) doesn't she start to ham it up a little too?  Thanks for doing this. Favorite show on television \n",
            "71 I always pictured it almost without a face, and that's what made the face so memorable. \n",
            "72 Hey G!  I saw you at Firefly and you were definitely my favorite show. Thanks so much for coming!  Question I guess would be who's your favorite rapper to collaborate with?\n",
            "73 What's your favorite song off of Music is Better than Words?\n",
            "74 I'm new to tagpro and I don't know if I need to download anything additional. However I've been waiting for an hour on the screen that says \"looking for a game\". HELP\n",
            "75 I've been trying to connect for a game for 20 minutes now. I've tried 2 servers both for 10 minutes and I can't connect. Can anybody help me?\n",
            "76 The beginning of all the Assassin's Creed games. Before you can free roam and kill people and just have fun. You have to do all of these pointless missions\n",
            "77 I don't know who you are, but...yeah you got it right.\n",
            "78 prison break  edit: at least the first 2 seasons\n",
            "79 \"I will find you, and I will kill you\"\n",
            "80 What did he get you?!\n",
            "81 it can be anything from a smell to a movie to your mother in law...\n",
            "82 E.T. his entire character scared me. I watched it when I was 6 and cried because i was scared. I haven't watched it since...\n",
            "83 You know I've been thinking fish recently.\n",
            "84 40 oz. to freedom\n",
            "85 wealth does not equal happiness. \n",
            "86 \"Twenty years from now you will be more disappointed by the things you didn't do than by the ones you did. So throw off the bowlines. Sail away from the safe harbor. Catch the trade winds in your sails. Explore. Dream. Discover\" -Mark Twain\n",
            "87 you sir have hair on your peaches. thats for sure. good for you. one more question. what's the most common question you get from a confused guy?\n",
            "88 but does it actually work? also how did you exactly apply for this job?\n",
            "89 do you hit on girls who are buying lingerie. it just seems to easy. i mean they cant say no...because of the implication. \n",
            "90 I just want to know how you don't know anybody named chris?\n",
            "91 thank you so much!\n",
            "92 I'm writing my college essay on why I love my home town so much, and I'm running out of ideas. If you guys could help me out because clearly you love it too, that would be great.\n",
            "93 Does anybody know where I can buy a Jack Daniels Shirt in person. I don't want to order it because it's for my German foreign exchange student and I need it before he leaves! thanks!\n",
            "94 thanks so much!\n",
            "95 I've been looking for the video game \"Earth Defense Force: Insect Armageddon\" for sometime now. Will buy and pay for shipping at a reasonable cost.\n"
          ]
        }
      ]
    },
    {
      "cell_type": "code",
      "source": [
        "all_post = \" \" #concatenate all post \n",
        "for i in range(len(hist_post)):\n",
        "    all_post = all_post + hist_post[i] + \" \""
      ],
      "metadata": {
        "id": "FLQJzQQ710nB"
      },
      "execution_count": null,
      "outputs": []
    },
    {
      "cell_type": "code",
      "source": [
        "all_post"
      ],
      "metadata": {
        "colab": {
          "base_uri": "https://localhost:8080/",
          "height": 145
        },
        "id": "fDsoC7p95aEh",
        "outputId": "ba4a7007-95fd-4b50-89d6-f92ec1f11bd5"
      },
      "execution_count": null,
      "outputs": [
        {
          "output_type": "execute_result",
          "data": {
            "text/plain": [
              "' So many unwanted Smith fadeaways. Hey guys, Celtics fan here pulling hard for the Rockets to win it all. Huge Harden fan. I\\'m wondering if anybody has a stat of how many total mid range jumpers the Rockets took during the regular season. I know they don\\'t take many, even less before Josh Smith, but if anybody has the total that\\'d be sweet. Go Rockets! Well he got 2 tonight so maybe he\\'ll be able to scrape together some AB\\'s. I agree with you though I mean he\\'ll get pinch hits and an occasional day but I\\'m afraid he\\'s gonna lose his swing or something Yeah you\\'re probably right. Oh well.  I guess that\\'s true. You make a valid point but he\\'s just watching. he\\'s not going to get any playing time with our core back and healthy and playing so well, I would just rather him stay hot and keep hitting. I just think I\\'d rather have him getting everyday at bats instead of sitting on our bench with Clint Robinson and Danny. I\\'d rather him getting the consistent at bats even if it is against AAA pitchers. What do you guys think? Why can\\'t Carpenter be good against everyone but us. Curse you fantasy... I can only assume \"cash\" means we\\'re getting [this guy.](http://www.korkedbats.com/wp-content/uploads/2014/08/LLWS-Pics-Cash-Money-2.jpg) Bryce=GOAT I have Carpenter and Heyward on my fantasy so I don\\'t know what I want. Just kidding, FUCK THE CARDS  Kelly GOATlynyk putting on a Kelly Oclinic right now #STOREIT Hey guys, we\\'re winning. This is crazy. Guys check it out! I know I\\'m 5 months late to this, but I need this. So thank you person, thank you Go dukes! 6 unearned runs in this series arguably all because of Desmond\\'s April woes. Unbelievable.  Yeah 106.7 the fan is really good, unless you\\'re not in the DC area then you won\\'t get that, and then I\\'m no help... Still would rather den Dekker out there... 161-1 HERE WE COME!!!!! BRYCE MVP CONFIRMED  Kelly Olynyk, and that\\'s it AAHHHHHH!!!!! Proving that not every statistic is interesting. boooo Guess who just voted for the Yard Goats as my 1st, 2nd, and 3rd place choices! Goat images/facts please Skipped my first 2 classes because of this exact thing.  Thanks for bringing a smile to my face. What did I just read. That\\'s what I\\'m thinking https://twitter.com/realtonytiger/status/570266932626067456?s=09 I went from jmu today and it was fine so if you go tomorrow morning you should be okay. I went the Cass way. Hope this helps Somebody please help all of us. Please. Yeah let me know if you plan on going up though! I\\'m always down to shred snowshoe if I have the money I go to jmu (obligatory \"fuck vt\") but I would definitely try to make it up for a weekend. I don\\'t know if I\\'d be able to do this year (moneys) but in the future for sure! 10 minutes from school so I\\'ll definitely hit you up next time I\\'m there! 10 minutes from school so I\\'ll definitely hit you up next time I\\'m there! Masturbate on an airplane I think it should be AB. He\\'s really grown as a player in the last couple years in terms of scoring. He\\'s stored off a little bit recently so I think making him captain would really get his confidence back up Hey LD. Huge fan! From one kike to another, I was wondering if it\\'s at all scary constantly knowing the cops are after you because you\\'re such a white criminal? #whitecrime that\\'s why when I first listened to it I was skeptical but it\\'s so great for some reason Acid Rap album by Chance the Rapper. This on repeat throughout the day is oddly satisfying I\\'m just very upset that we blew it somehow. You can understand why And here I was telling everyone how great Kelly is and how everybody should love him and how the Celtics totally aren\\'t gonna blow it.....they blew it for some reason Smart has flopped a couple times since he\\'s started playing, which is surprising to me god awful. take a lap Definitely take a sticker over here! What happens if it\\'s so bad I do worse than 1000th place? Click \"Family comes first\" Just replying so I can come back later on my desktop Mary Ann Lincoln You deserve gold my friend He does this every game at one time or another. Look for it every time you go to a game. I sit there every time and it happens every time If you\\'re in town you should show me some good spots! It\\'s a shame. The university kinda sucks but hey they got good pizza. Flying out there December 22nd! I went last summer and my friend and I had the park to ourselves after 8:00. It really is worth the trip.  It\\'s a little jarring at first but trust me if you don\\'t love to far (I live 4 hours away) it\\'s totally worth it. christmas at breck can\\'t come soon enough If you don\\'t mind me asking How much were they though? I did that for my dc\\'s and it\\'s amazing. Good call. Thank you. It doesn\\'t hurt that they are gorgeous boots Definitely about to pick those up. Thank you And they\\'re quality? I\\'ve never bought vans snowboard apparel. Can I trust em? Yeah my local shop seeks last year\\'s model for cheap so I might get em! Thanks How much did you get them for? How many seasons have you gotten out of them? Yeah my local shop does a huge last season\\'s model sale so I\\'m gonna head down in these next few days. I ride dc\\'s now. I got a good 3 seasons out of em but they\\'re shot. Thanks for the advice I am beyond jealous Hey guys. I think we can ask agree we\\'re ready for winter already. With that being said I need new boots. To be honest I\\'ve done zero research so any opinions would be fine. I\\'m looking for a durable but comfortable style. If you like your boots par tell me what they are. Thanks so much fellas Hey Nathan I am a huge fan and I\\'ve seen every episode.   I just want to ask about the girl Rachel. Is that actually how she is or do you exaggerate the awkwardness for the camera? Also when you get her for more than one segment (The Hunk and Quiznos) doesn\\'t she start to ham it up a little too?  Thanks for doing this. Favorite show on television  I always pictured it almost without a face, and that\\'s what made the face so memorable.  Hey G!  I saw you at Firefly and you were definitely my favorite show. Thanks so much for coming!  Question I guess would be who\\'s your favorite rapper to collaborate with? What\\'s your favorite song off of Music is Better than Words? I\\'m new to tagpro and I don\\'t know if I need to download anything additional. However I\\'ve been waiting for an hour on the screen that says \"looking for a game\". HELP I\\'ve been trying to connect for a game for 20 minutes now. I\\'ve tried 2 servers both for 10 minutes and I can\\'t connect. Can anybody help me? The beginning of all the Assassin\\'s Creed games. Before you can free roam and kill people and just have fun. You have to do all of these pointless missions I don\\'t know who you are, but...yeah you got it right. prison break  edit: at least the first 2 seasons \"I will find you, and I will kill you\" What did he get you?! it can be anything from a smell to a movie to your mother in law... E.T. his entire character scared me. I watched it when I was 6 and cried because i was scared. I haven\\'t watched it since... You know I\\'ve been thinking fish recently. 40 oz. to freedom wealth does not equal happiness.  \"Twenty years from now you will be more disappointed by the things you didn\\'t do than by the ones you did. So throw off the bowlines. Sail away from the safe harbor. Catch the trade winds in your sails. Explore. Dream. Discover\" -Mark Twain you sir have hair on your peaches. thats for sure. good for you. one more question. what\\'s the most common question you get from a confused guy? but does it actually work? also how did you exactly apply for this job? do you hit on girls who are buying lingerie. it just seems to easy. i mean they cant say no...because of the implication.  I just want to know how you don\\'t know anybody named chris? thank you so much! I\\'m writing my college essay on why I love my home town so much, and I\\'m running out of ideas. If you guys could help me out because clearly you love it too, that would be great. Does anybody know where I can buy a Jack Daniels Shirt in person. I don\\'t want to order it because it\\'s for my German foreign exchange student and I need it before he leaves! thanks! thanks so much! I\\'ve been looking for the video game \"Earth Defense Force: Insect Armageddon\" for sometime now. Will buy and pay for shipping at a reasonable cost. '"
            ],
            "application/vnd.google.colaboratory.intrinsic+json": {
              "type": "string"
            }
          },
          "metadata": {},
          "execution_count": 10
        }
      ]
    },
    {
      "cell_type": "markdown",
      "source": [
        "# Concatenate posts for users in Depression 2022"
      ],
      "metadata": {
        "id": "sMZWveIu9IvT"
      }
    },
    {
      "cell_type": "code",
      "source": [
        "#sorted(onlyfiles, key=lambda x: int(x.partition('subject')[2].partition('.')[0])) sort by number "
      ],
      "metadata": {
        "id": "Kkf9M5FlBVO0"
      },
      "execution_count": null,
      "outputs": []
    },
    {
      "cell_type": "code",
      "source": [
        "def get_urls(path): \n",
        "    onlyfiles = [f for f in listdir(path) if isfile(join(path, f))]\n",
        "    onlyfiles.sort()\n",
        "\n",
        "    return onlyfiles"
      ],
      "metadata": {
        "id": "4pCHZhF1Bg7M"
      },
      "execution_count": null,
      "outputs": []
    },
    {
      "cell_type": "code",
      "source": [
        "def get_text_post(user_path):\n",
        "    tree = ET.parse(user_path)\n",
        "    root = tree.getroot()\n",
        "    hist_post = [] # list with entries from the user \n",
        "\n",
        "    #iterate recursively over all the sub-tree \n",
        "    #source : https://docs.python.org/3/library/xml.etree.elementtree.html\n",
        "    for post in root.iter('TEXT'): \n",
        "        entry = post.text\n",
        "        entry = entry.replace('\\n', ' ') \n",
        "\n",
        "        if entry == ' ' or entry == '  ':\n",
        "            continue \n",
        "        else: \n",
        "            hist_post.append(entry[1:-1])\n",
        "    \n",
        "    ##--------concatenate post -------------#\n",
        "    all_post = \"\" #concatenate all post \n",
        "    for i in range(len(hist_post)):\n",
        "        all_post = all_post + hist_post[i] + \" \"\n",
        "    \n",
        "    return all_post "
      ],
      "metadata": {
        "id": "Goa0BO_PI56S"
      },
      "execution_count": null,
      "outputs": []
    },
    {
      "cell_type": "code",
      "source": [
        "def get_text_labels(path, polarity = 'Negative'): \n",
        "    all_documents = [] #list with all the documents \n",
        "    all_label = [] #label \n",
        "\n",
        "    user_path = get_urls(path)\n",
        "    for i in range(len(user_path)): \n",
        "        subject = user_path[i] #for example test_subjet1005.xml \n",
        "        path_subject = path + '/' + subject \n",
        "        document = get_text_post(path_subject) #get document with all the history of a user \n",
        "\n",
        "        all_documents += [document] \n",
        "        if polarity == 'Negative' : \n",
        "            all_label += [0]\n",
        "        else: \n",
        "            all_label += [1]\n",
        "\n",
        "    return all_documents, all_label \n",
        "\n",
        "\n"
      ],
      "metadata": {
        "id": "MWZuAKVdIPaC"
      },
      "execution_count": null,
      "outputs": []
    },
    {
      "cell_type": "code",
      "source": [
        "train_neg_2017 = '/content/drive/MyDrive/Proyecto_Tecnologico/Data/depression2022/training data/2017 cases/neg'\n",
        "train_pos_2017 = '/content/drive/MyDrive/Proyecto_Tecnologico/Data/depression2022/training data/2017 cases/pos'\n",
        "train_neg_2018 = '/content/drive/MyDrive/Proyecto_Tecnologico/Data/depression2022/training data/2018 cases/neg'\n",
        "train_pos_2018 = '/content/drive/MyDrive/Proyecto_Tecnologico/Data/depression2022/training data/2018 cases/pos'"
      ],
      "metadata": {
        "id": "dnJRV4zOK-m9"
      },
      "execution_count": null,
      "outputs": []
    },
    {
      "cell_type": "code",
      "source": [
        "tr_neg_2017, tr_lab_2017 = get_text_labels(train_neg_2017, polarity= 'Negative')"
      ],
      "metadata": {
        "id": "eNgTijgOLQZl"
      },
      "execution_count": null,
      "outputs": []
    },
    {
      "cell_type": "code",
      "source": [
        "tr_pos_2017, tr_lab_pos_2017 = get_text_labels(train_pos_2017, polarity= 'Pos')"
      ],
      "metadata": {
        "id": "e_tIk2iiLuS2"
      },
      "execution_count": null,
      "outputs": []
    },
    {
      "cell_type": "code",
      "source": [
        "tr_neg_2018, tr_lab_2018 = get_text_labels(train_neg_2018, polarity= 'Negative')\n",
        "tr_pos_2018, tr_lab_pos_2018 = get_text_labels(train_pos_2018, polarity= 'Pos')"
      ],
      "metadata": {
        "id": "n0eBTYDwMLfk"
      },
      "execution_count": null,
      "outputs": []
    },
    {
      "cell_type": "markdown",
      "source": [
        "### All training data 2017 "
      ],
      "metadata": {
        "id": "0ccKhFfsHp5i"
      }
    },
    {
      "cell_type": "code",
      "source": [
        "tr_txt_2017 = [*tr_neg_2017, *tr_pos_2017] \n",
        "tr_y_2017   = [*tr_lab_2017, *tr_lab_pos_2017]"
      ],
      "metadata": {
        "id": "mX9p5K8AN3ZW"
      },
      "execution_count": null,
      "outputs": []
    },
    {
      "cell_type": "markdown",
      "source": [
        "### All training data 2018 "
      ],
      "metadata": {
        "id": "4Cj6Y6OPHwDF"
      }
    },
    {
      "cell_type": "code",
      "source": [
        "tr_txt_2018 = [*tr_neg_2018, *tr_pos_2018] \n",
        "tr_y_2018   = [*tr_lab_2018, *tr_lab_pos_2018]"
      ],
      "metadata": {
        "id": "baIJqY67OhuR"
      },
      "execution_count": null,
      "outputs": []
    },
    {
      "cell_type": "code",
      "source": [
        "from collections import Counter\n",
        "import matplotlib.pyplot as plt\n",
        "%matplotlib inline\n",
        "\n",
        "print(Counter(tr_y_2017))\n",
        "plt.hist(tr_y_2017, bins=len(set(tr_y_2017)))\n",
        "plt.ylabel('Users');\n",
        "plt.xlabel('Class');"
      ],
      "metadata": {
        "colab": {
          "base_uri": "https://localhost:8080/"
        },
        "id": "uIHQLuZW6ki_",
        "outputId": "4836bda8-0f1c-4ab0-be8e-11392564a3dd"
      },
      "execution_count": null,
      "outputs": [
        {
          "output_type": "stream",
          "name": "stdout",
          "text": [
            "Counter({0: 752, 1: 135})\n"
          ]
        },
        {
          "output_type": "display_data",
          "data": {
            "text/plain": [
              "<Figure size 432x288 with 1 Axes>"
            ],
            "image/png": "[encoded data removed]"
          },
          "metadata": {
            "needs_background": "light"
          }
        }
      ]
    },
    {
      "cell_type": "code",
      "source": [
        "print(Counter(tr_y_2018))\n",
        "plt.hist(tr_y_2018, bins=len(set(tr_y_2018)))\n",
        "plt.ylabel('Users');\n",
        "plt.xlabel('Class');"
      ],
      "metadata": {
        "colab": {
          "base_uri": "https://localhost:8080/"
        },
        "id": "_xTQuaCt6nXw",
        "outputId": "a58923fe-a25c-4b2f-dc2e-809930c8a16f"
      },
      "execution_count": null,
      "outputs": [
        {
          "output_type": "stream",
          "name": "stdout",
          "text": [
            "Counter({0: 741, 1: 79})\n"
          ]
        },
        {
          "output_type": "display_data",
          "data": {
            "text/plain": [
              "<Figure size 432x288 with 1 Axes>"
            ],
            "image/png": "[encoded data removed]"
          },
          "metadata": {
            "needs_background": "light"
          }
        }
      ]
    },
    {
      "cell_type": "markdown",
      "source": [
        "## Test extraction"
      ],
      "metadata": {
        "id": "igxvQQ2kY7Ni"
      }
    },
    {
      "cell_type": "code",
      "source": [
        "test_data = '/content/drive/MyDrive/Proyecto_Tecnologico/Data/depression2022/test data/datos'"
      ],
      "metadata": {
        "id": "dLBBVaLraIH_"
      },
      "execution_count": null,
      "outputs": []
    },
    {
      "cell_type": "code",
      "source": [
        "test_url    = []\n",
        "test_labels = []\n",
        "\n",
        "with open('/content/drive/MyDrive/Proyecto_Tecnologico/Data/depression2022/test data/risk_golden_truth.txt') as f:\n",
        "    lines = f.readlines()\n",
        "    for line in lines: \n",
        "\n",
        "        test_url.append(line[:-3]) #only the name of the subject \n",
        "\n",
        "        test_labels.append(int(line[-2:-1])) #only the label\n",
        "    f.close()"
      ],
      "metadata": {
        "id": "aDJJv323aN3C"
      },
      "execution_count": null,
      "outputs": []
    },
    {
      "cell_type": "code",
      "source": [
        "def get_test_post(user_path):\n",
        "    tree = ET.parse(user_path)\n",
        "    root = tree.getroot()\n",
        "    hist_post = [] # list with entries from the user \n",
        "\n",
        "    #iterate recursively over all the sub-tree \n",
        "    #source : https://docs.python.org/3/library/xml.etree.elementtree.html\n",
        "    num_post = len(root)\n",
        "\n",
        "    \n",
        "\n",
        "    for i in range(1,num_post):     \n",
        "        if len(root[i][2]) == 0: \n",
        "            entry = root[i][2].text\n",
        "            \n",
        "            if type(entry) == str:\n",
        "                entry = entry.replace('\\n', ' ') \n",
        "                if entry == ' ' or entry == '  ':\n",
        "                        continue \n",
        "                else: \n",
        "                    hist_post.append(entry[0:-1]) \n",
        "        \n",
        "        else: \n",
        "            num_sub_post = len(root[i][2])\n",
        "            for j in range(1,num_sub_post-1):\n",
        "                #print(i,j, user_path)\n",
        "\n",
        "                if user_path == '/content/drive/MyDrive/Proyecto_Tecnologico/Data/depression2022/test data/datos/subject1566.xml' and j == 1:\n",
        "                    entry = root[i][2][1].text\n",
        "                    if type(entry) == str:\n",
        "                        entry = entry.replace('\\n', ' ') \n",
        "                        if entry == ' ' or entry == '  ':\n",
        "                            continue \n",
        "                        else: \n",
        "                            hist_post.append(entry[0:-1]) \n",
        "                elif user_path == '/content/drive/MyDrive/Proyecto_Tecnologico/Data/depression2022/test data/datos/subject1566.xml' and j>3 and len(root[i][2][j][2]) !=0 : \n",
        "                    for k in range(1, len(root[i][2][j][2])):\n",
        "                        entry = root[i][2][j][2][k][2].text \n",
        "                        if type(entry) == str:\n",
        "                            entry = entry.replace('\\n', ' ') \n",
        "                            if entry == ' ' or entry == '  ':\n",
        "                                continue \n",
        "                            else: \n",
        "                                hist_post.append(entry[0:-1])\n",
        "\n",
        "                elif user_path != '/content/drive/MyDrive/Proyecto_Tecnologico/Data/depression2022/test data/datos/subject1566.xml':\n",
        "                    entry = root[i][2][j][2].text\n",
        "\n",
        "                    if type(entry) == str:\n",
        "                        entry = entry.replace('\\n', ' ') \n",
        "                        if entry == ' ' or entry == '  ':\n",
        "                            continue \n",
        "                        else: \n",
        "                            hist_post.append(entry[0:-1])    \n",
        "    ##--------concatenate post -------------#\n",
        "    all_post = \"\" #concatenate all post \n",
        "    for i in range(len(hist_post)):\n",
        "        all_post = all_post + hist_post[i] + \" \"\n",
        "    \n",
        "    return all_post "
      ],
      "metadata": {
        "id": "lujNAFNag6BJ"
      },
      "execution_count": null,
      "outputs": []
    },
    {
      "cell_type": "code",
      "source": [
        "def get_text_test(path, list_subject): \n",
        "    all_documents = [] #list with all the documents \n",
        "    all_label = [] #label \n",
        "\n",
        "    for i in range(len(list_subject)): \n",
        "        subject = list_subject[i] #for example test_subjet1005.xml \n",
        "        path_subject = path + '/' + subject + '.xml'\n",
        "        \n",
        "        document = get_test_post(path_subject) #get document with all the history of a user \n",
        "        \n",
        "        all_documents += [document] \n",
        "\n",
        "    return all_documents"
      ],
      "metadata": {
        "id": "9UKFIO18bo2w"
      },
      "execution_count": null,
      "outputs": []
    },
    {
      "cell_type": "code",
      "source": [
        "test_txt = get_text_test(test_data, test_url)"
      ],
      "metadata": {
        "id": "4lklZLP-b6oX"
      },
      "execution_count": null,
      "outputs": []
    },
    {
      "cell_type": "markdown",
      "source": [
        "#Constructing BOW"
      ],
      "metadata": {
        "id": "YXhDKT-W7GPU"
      }
    },
    {
      "cell_type": "code",
      "source": [
        "def normalize(document): \n",
        "\n",
        "    document = [re.sub(r'https?:\\/\\/\\S+', '', x) for x in document] #eliminate url\n",
        "    document = [re.sub(r\"www\\.[a-z]?\\.?(com)+|[a-z]+\\.(com)\", '', x) for x in document] #eliminate url \n",
        "    document = [re.sub(r'{link}', '', x) for x in document] #eliminate link\n",
        "    document = [re.sub(r\"\\[video\\]\", '', x) for x in document] #eliminate video \n",
        "    document = [re.sub(r'\\s+', ' ' '', x).strip() for x in document]\n",
        "    document = [x.replace(\"#\",\"\") for x in document]  #eliminate #\n",
        "    document = [re.subn(r'[^\\w\\s,]',\"\", x)[0].strip() for x in document] #eliminate emoticons \n",
        "\n",
        "    return document"
      ],
      "metadata": {
        "id": "iDLI31FvDX1R"
      },
      "execution_count": null,
      "outputs": []
    },
    {
      "cell_type": "code",
      "source": [
        "from sklearn.pipeline import Pipeline\n",
        "from sklearn.feature_extraction.text import TfidfTransformer"
      ],
      "metadata": {
        "id": "76gI3s1pVCnU"
      },
      "execution_count": null,
      "outputs": []
    },
    {
      "cell_type": "code",
      "source": [
        "def building_bow(data, labels,ntrain, min = 1, max = 1, num_feat = 3000, binary = False, tf= False, tf_idf = False, \n",
        "                 norm = False, stopwords = False, verbose = True, analyzer_char = False):\n",
        "    documents = data \n",
        "    if norm == True:\n",
        "        documents = normalize(documents)\n",
        "\n",
        "    #split the data\n",
        "    #x_train, x_val, y_train, y_val = train_test_split(documents, labels, test_size= split, random_state=42)\n",
        "    x_train = documents[:ntrain]\n",
        "    x_val   = documents[ntrain:]\n",
        "    y_train = labels[:ntrain] \n",
        "    t_initial = time()\n",
        "\n",
        "    analyzer_type = 'word' #https://scikit-learn.org/stable/modules/generated/sklearn.feature_extraction.text.CountVectorizer.html\n",
        "    if analyzer_char == True:\n",
        "        analyzer_type = 'char' \n",
        "\n",
        "    if binary == True: \n",
        "        vectorizer = CountVectorizer(ngram_range=(min,max),binary=True)\n",
        "    elif stopwords == True: \n",
        "        vectorizer = TfidfVectorizer(ngram_range=(min,max),stop_words='english',\n",
        "                                     analyzer=analyzer_type,sublinear_tf=True)\n",
        "    else: \n",
        "        vectorizer = TfidfVectorizer(ngram_range=(min,max),sublinear_tf=True,analyzer=analyzer_type)\n",
        "\n",
        "    X_train = vectorizer.fit_transform(x_train)\n",
        "    X_val = vectorizer.transform(x_val)\n",
        "    \n",
        "    if tf == True: \n",
        "        pipe = Pipeline([('count', CountVectorizer(ngram_range=(min,max),binary=True)),             \n",
        "        ('tfid', TfidfTransformer(use_idf = False))]).fit(x_train)\n",
        "\n",
        "        \n",
        "        X_train = pipe['count'].transform(x_train).toarray()\n",
        "\n",
        "        pipe = Pipeline([('count', CountVectorizer(ngram_range=(min,max),binary=True)),             \n",
        "        ('tfid', TfidfTransformer(use_idf = False))]).fit(x_val)\n",
        "        X_val =  pipe['count'].transform(x_val).toarray()\n",
        "\n",
        "    if verbose:\n",
        "        print(\"done in %fs\" % (time() - t_initial), X_train.shape, X_val.shape)\n",
        "    \n",
        "    y = np.array(y_train) \n",
        "   \n",
        "    \n",
        "    if num_feat < X_train.shape[1]:\n",
        "        t0 = time()\n",
        "        ch2 = SelectKBest(chi2, k=num_feat)\n",
        "        X_train = ch2.fit_transform(X_train, y)\n",
        "        X_test = ch2.transform(X_val)\n",
        "        assert sp.issparse(X_train)        \n",
        "\n",
        "    if verbose:\n",
        "        print(\"Extracting best features by a chi-squared test.. \", X_train.shape, X_test.shape)\n",
        "    return X_train, y, X_test\n"
      ],
      "metadata": {
        "id": "omXxYW-UFKYi"
      },
      "execution_count": null,
      "outputs": []
    },
    {
      "cell_type": "markdown",
      "source": [
        "## Experiments"
      ],
      "metadata": {
        "id": "kdgD5v9XIa9Z"
      }
    },
    {
      "cell_type": "code",
      "source": [
        "train = tr_txt_2017 +tr_txt_2018\n",
        "test  = test_txt\n",
        "\n",
        "labels = tr_y_2018 + tr_y_2017\n",
        "\n",
        "data = train +test \n",
        "ntrain = len(train)\n",
        "\n",
        "t0 = time()\n",
        "\n",
        "x_train1,y_train1, x_test1 = building_bow(data, labels, ntrain, 1,1,3000, binary = True, norm = True, verbose = True)"
      ],
      "metadata": {
        "colab": {
          "base_uri": "https://localhost:8080/"
        },
        "id": "XQVCRh1N4K0E",
        "outputId": "1df12b46-76a9-40a2-94f4-78b40383e191"
      },
      "execution_count": null,
      "outputs": [
        {
          "output_type": "stream",
          "name": "stdout",
          "text": [
            "done in 39.961372s (1707, 376791) (1400, 376791)\n",
            "Extracting best features by a chi-squared test..  (1707, 3000) (1400, 3000)\n"
          ]
        }
      ]
    },
    {
      "cell_type": "code",
      "source": [
        "x_train2,y_train2, x_test2 = building_bow(data, labels, ntrain, 1,1,3000, tf_idf = True, norm = True, verbose = True)\n",
        "#x_train3,y_train3, x_test3 = building_bow(data, labels, ntrain, 1,1,4000, tf= True, norm = True, verbose = True)\n",
        "#x_train4,y_train4, x_test4 = building_bow(data, labels, ntrain, 1,1,3000, stopwords = True, norm = True, verbose = True)"
      ],
      "metadata": {
        "colab": {
          "base_uri": "https://localhost:8080/"
        },
        "id": "kkXg20R0JDM9",
        "outputId": "f52fb53d-e1dc-4912-dfc8-01697626f093"
      },
      "execution_count": null,
      "outputs": [
        {
          "output_type": "stream",
          "name": "stdout",
          "text": [
            "done in 41.645218s (1707, 376791) (1400, 376791)\n",
            "Extracting best features by a chi-squared test..  (1707, 3000) (1400, 3000)\n"
          ]
        }
      ]
    },
    {
      "cell_type": "code",
      "source": [
        "x_train5,y_train5, x_test5 = building_bow(data, labels, ntrain, 2,2,3000, binary = True, norm = True, verbose = True)\n",
        "x_train6,y_train6, x_test6 = building_bow(data, labels, ntrain, 2,2,2500, tf_idf = True, norm = True, verbose = True)\n",
        "#x_train7,y_train7, x_test7 = building_bow(data, labels, ntrain, 2,2,3000, tf= True, norm = True, verbose = True)\n",
        "#x_train8,y_train8, x_test8 = building_bow(data, labels, ntrain, 2,2,2500, stopwords = True, norm = True, verbose = True)"
      ],
      "metadata": {
        "colab": {
          "base_uri": "https://localhost:8080/"
        },
        "id": "KxU4hezX9_rZ",
        "outputId": "88125495-c3fc-44f8-ad40-fae49f4b0f88"
      },
      "execution_count": null,
      "outputs": [
        {
          "output_type": "stream",
          "name": "stdout",
          "text": [
            "done in 161.247779s (1707, 5822866) (1400, 5822866)\n",
            "Extracting best features by a chi-squared test..  (1707, 3000) (1400, 3000)\n",
            "done in 203.904705s (1707, 5822866) (1400, 5822866)\n",
            "Extracting best features by a chi-squared test..  (1707, 2500) (1400, 2500)\n"
          ]
        }
      ]
    },
    {
      "cell_type": "code",
      "source": [
        "from sklearn import svm \n",
        "from sklearn.model_selection import GridSearchCV\n",
        "from sklearn import metrics\n",
        "from sklearn.metrics import accuracy_score, confusion_matrix, f1_score, precision_recall_fscore_support, roc_auc_score \n",
        "\n",
        "parameters = {'C': [.05, .12, .25, .5, 1, 2, 4]}\n",
        "\n",
        "svr = svm.LinearSVC(class_weight = 'balanced')\n",
        "grid = GridSearchCV(estimator = svr, param_grid = parameters, n_jobs = 8, scoring = 'f1_macro', cv = 5)\n",
        "\n",
        "grid.fit(x_train1, y_train1)\n",
        "\n",
        "y_pred = grid.predict(x_test1)\n",
        "\n"
      ],
      "metadata": {
        "id": "gELt4_YI-VqU"
      },
      "execution_count": null,
      "outputs": []
    },
    {
      "cell_type": "code",
      "source": [
        "p , r, f, _ = precision_recall_fscore_support(test_labels, y_pred, average = 'macro', pos_label = 1)\n",
        "\n",
        "print(confusion_matrix(test_labels, y_pred))\n",
        "print(metrics.classification_report(test_labels,y_pred))\n",
        "\n",
        "\n",
        "\n",
        "[p,r,f]"
      ],
      "metadata": {
        "colab": {
          "base_uri": "https://localhost:8080/"
        },
        "id": "mDllAVhsIH2M",
        "outputId": "b4dc6a71-bb9e-4ec8-87f6-1c2c999d265a"
      },
      "execution_count": null,
      "outputs": [
        {
          "output_type": "stream",
          "name": "stdout",
          "text": [
            "[[1174  128]\n",
            " [  39   59]]\n",
            "              precision    recall  f1-score   support\n",
            "\n",
            "           0       0.97      0.90      0.93      1302\n",
            "           1       0.32      0.60      0.41        98\n",
            "\n",
            "    accuracy                           0.88      1400\n",
            "   macro avg       0.64      0.75      0.67      1400\n",
            "weighted avg       0.92      0.88      0.90      1400\n",
            "\n"
          ]
        },
        {
          "output_type": "execute_result",
          "data": {
            "text/plain": [
              "[0.6416781656828211, 0.7518652622339258, 0.6738167486310208]"
            ]
          },
          "metadata": {},
          "execution_count": 46
        }
      ]
    },
    {
      "cell_type": "code",
      "source": [
        "grid.fit(x_train2, y_train2)\n",
        "\n",
        "y_pred2 = grid.predict(x_test2)\n",
        "\n",
        "p , r, f, _ = precision_recall_fscore_support(test_labels, y_pred2, average = 'macro', pos_label = 1)\n",
        "\n",
        "print(confusion_matrix(test_labels, y_pred2))\n",
        "print(metrics.classification_report(test_labels,y_pred2))\n",
        "\n",
        "[p,r,f]\n"
      ],
      "metadata": {
        "colab": {
          "base_uri": "https://localhost:8080/"
        },
        "id": "vfvmkavAIOZx",
        "outputId": "6f536fa7-84ff-4415-9466-fbab70626cda"
      },
      "execution_count": null,
      "outputs": [
        {
          "output_type": "stream",
          "name": "stdout",
          "text": [
            "[[1248   54]\n",
            " [  29   69]]\n",
            "              precision    recall  f1-score   support\n",
            "\n",
            "           0       0.98      0.96      0.97      1302\n",
            "           1       0.56      0.70      0.62        98\n",
            "\n",
            "    accuracy                           0.94      1400\n",
            "   macro avg       0.77      0.83      0.80      1400\n",
            "weighted avg       0.95      0.94      0.94      1400\n",
            "\n"
          ]
        },
        {
          "output_type": "execute_result",
          "data": {
            "text/plain": [
              "[0.7691330672116432, 0.8313034891375906, 0.7961256862335713]"
            ]
          },
          "metadata": {},
          "execution_count": 48
        }
      ]
    },
    {
      "cell_type": "code",
      "source": [
        "grid.fit(x_train5, y_train5)\n",
        "\n",
        "y_pred5 = grid.predict(x_test5)\n",
        "\n",
        "p , r, f, _ = precision_recall_fscore_support(test_labels, y_pred5, average = 'macro', pos_label = 1)\n",
        "\n",
        "print(confusion_matrix(test_labels, y_pred5))\n",
        "print(metrics.classification_report(test_labels,y_pred5))\n",
        "\n",
        "[p,r,f]"
      ],
      "metadata": {
        "colab": {
          "base_uri": "https://localhost:8080/"
        },
        "id": "SkKEpLUMIyXv",
        "outputId": "b00e3690-81d2-4b92-d58f-2053fd2b8450"
      },
      "execution_count": null,
      "outputs": [
        {
          "output_type": "stream",
          "name": "stdout",
          "text": [
            "[[1248   54]\n",
            " [  29   69]]\n",
            "              precision    recall  f1-score   support\n",
            "\n",
            "           0       0.98      0.96      0.97      1302\n",
            "           1       0.56      0.70      0.62        98\n",
            "\n",
            "    accuracy                           0.94      1400\n",
            "   macro avg       0.77      0.83      0.80      1400\n",
            "weighted avg       0.95      0.94      0.94      1400\n",
            "\n"
          ]
        },
        {
          "output_type": "execute_result",
          "data": {
            "text/plain": [
              "[0.7415383217482168, 0.6666666666666666, 0.6955845886228209]"
            ]
          },
          "metadata": {},
          "execution_count": 51
        }
      ]
    },
    {
      "cell_type": "code",
      "source": [
        "grid.fit(x_train6, y_train6)\n",
        "\n",
        "y_pred6 = grid.predict(x_test6)\n",
        "\n",
        "p , r, f, _ = precision_recall_fscore_support(test_labels, y_pred6, average = 'macro', pos_label = 1)\n",
        "\n",
        "print(confusion_matrix(test_labels, y_pred6))\n",
        "print(metrics.classification_report(test_labels,y_pred6))\n",
        "\n",
        "[p,r,f]"
      ],
      "metadata": {
        "colab": {
          "base_uri": "https://localhost:8080/"
        },
        "id": "C3LrtBIBJAec",
        "outputId": "40c06d69-18c0-44a6-d0df-34832c3637e6"
      },
      "execution_count": null,
      "outputs": [
        {
          "output_type": "stream",
          "name": "stdout",
          "text": [
            "[[1226   76]\n",
            " [  13   85]]\n",
            "              precision    recall  f1-score   support\n",
            "\n",
            "           0       0.99      0.94      0.96      1302\n",
            "           1       0.53      0.87      0.66        98\n",
            "\n",
            "    accuracy                           0.94      1400\n",
            "   macro avg       0.76      0.90      0.81      1400\n",
            "weighted avg       0.96      0.94      0.94      1400\n",
            "\n"
          ]
        },
        {
          "output_type": "execute_result",
          "data": {
            "text/plain": [
              "[0.7587289890163877, 0.9044876014922097, 0.8106725379452653]"
            ]
          },
          "metadata": {},
          "execution_count": 52
        }
      ]
    },
    {
      "cell_type": "markdown",
      "source": [
        "#Anorexia "
      ],
      "metadata": {
        "id": "tel5fqzcJ86d"
      }
    },
    {
      "cell_type": "code",
      "source": [
        "anxia_test = '/content/drive/MyDrive/Proyecto_Tecnologico/Data/Anorexia Datasets_1/test'\n",
        "anxia_train = '/content/drive/MyDrive/Proyecto_Tecnologico/Data/Anorexia Datasets_1/train'"
      ],
      "metadata": {
        "id": "j7z7zqhjJ8Yf"
      },
      "execution_count": null,
      "outputs": []
    },
    {
      "cell_type": "markdown",
      "source": [
        "## Get training data"
      ],
      "metadata": {
        "id": "hXUkBUxIPFGY"
      }
    },
    {
      "cell_type": "code",
      "source": [
        "def get_text_chunk(path): \n",
        "    all_documents = [] #list with all the documents \n",
        "    all_label = [] #label \n",
        "\n",
        "    user_path = get_urls(path)\n",
        "    for i in range(len(user_path)): \n",
        "        subject = user_path[i] #for example test_subjet1005.xml \n",
        "        path_subject = path + '/' + subject \n",
        "        document = get_text_post(path_subject) #get document with all the history of a user \n",
        "\n",
        "        all_documents += [document] \n",
        "    return all_documents\n"
      ],
      "metadata": {
        "id": "-q9gYoKpL6RS"
      },
      "execution_count": null,
      "outputs": []
    },
    {
      "cell_type": "code",
      "source": [
        "pos = 'positive_examples'\n",
        "neg = 'negative_examples'\n",
        "\n",
        "all_pos = []\n",
        "all_neg = []\n",
        "for i in range(1,11):\n",
        "    path_chunk_pos = anxia_train +'/' + pos + '/chunk'+str(i)\n",
        "    path_chunk_neg = anxia_train +'/' + pos + '/chunk'+str(i)\n",
        "\n",
        "    temp1 = get_text_chunk(path_chunk_pos)\n",
        "    temp2 = get_text_chunk(path_chunk_neg)\n",
        "\n",
        "    if i == 1: \n",
        "        all_pos = temp1\n",
        "        all_neg = temp2\n",
        "    else: \n",
        "        for j in range(len(temp1)):\n",
        "            all_pos[j] += temp1[j]\n",
        "    \n",
        "        for j in range(len(temp2)):\n",
        "            all_neg[j] += temp2[j]\n",
        "    "
      ],
      "metadata": {
        "id": "N_tI_bRaKzoy"
      },
      "execution_count": null,
      "outputs": []
    },
    {
      "cell_type": "code",
      "source": [
        "tr_anorexia = [*all_pos, *all_neg]"
      ],
      "metadata": {
        "id": "SNzt4S_kNgdY"
      },
      "execution_count": null,
      "outputs": []
    },
    {
      "cell_type": "code",
      "source": [
        "tr_label = []\n",
        "for i in range(40):\n",
        "    if i < 20: \n",
        "        tr_label.append(1)\n",
        "    else:\n",
        "        tr_label.append(0)"
      ],
      "metadata": {
        "id": "62f-s4rvN9B4"
      },
      "execution_count": null,
      "outputs": []
    },
    {
      "cell_type": "markdown",
      "source": [
        "## Get test data"
      ],
      "metadata": {
        "id": "2WsWMMncPHrC"
      }
    },
    {
      "cell_type": "code",
      "source": [
        "test_url_anxia   = []\n",
        "test_labels_anxia = []\n",
        "\n",
        "with open('/content/drive/MyDrive/Proyecto_Tecnologico/Data/Anorexia Datasets_1/test/test_golden_truth.txt') as f:\n",
        "    lines = f.readlines()\n",
        "    for line in lines: \n",
        "\n",
        "        test_url_anxia.append(line[:-3]) #only the name of the subject \n",
        "\n",
        "        test_labels_anxia.append(int(line[-2:-1])) #only the label\n",
        "    f.close()"
      ],
      "metadata": {
        "id": "Bzbo5gR2P9qu"
      },
      "execution_count": null,
      "outputs": []
    },
    {
      "cell_type": "code",
      "source": [
        "len(test_labels_anxia)"
      ],
      "metadata": {
        "colab": {
          "base_uri": "https://localhost:8080/"
        },
        "id": "MttYGdB4P_Vr",
        "outputId": "1d054fc6-c88c-40a5-f0ad-7cebbeb5d861"
      },
      "execution_count": null,
      "outputs": [
        {
          "output_type": "execute_result",
          "data": {
            "text/plain": [
              "320"
            ]
          },
          "metadata": {},
          "execution_count": 83
        }
      ]
    },
    {
      "cell_type": "code",
      "source": [
        "def get_text_test_anorexia(path, list_subject, chunk): \n",
        "    all_documents = [] #list with all the documents \n",
        "    all_label = [] #label \n",
        "\n",
        "    for i in range(len(list_subject)): \n",
        "        subject = list_subject[i] #for example test_subjet1005.xml \n",
        "        path_subject = path + '/chunk'+ str(chunk) + '/' + subject + '_' + str(chunk) + '.xml'\n",
        "        \n",
        "        document = get_test_post(path_subject) #get document with all the history of a user \n",
        "        \n",
        "        all_documents += [document] \n",
        "\n",
        "    return all_documents"
      ],
      "metadata": {
        "id": "r6Tqwof6Qq83"
      },
      "execution_count": null,
      "outputs": []
    },
    {
      "cell_type": "code",
      "source": [
        "test_anxia = []\n",
        "for i in range(1,11):\n",
        "\n",
        "    temp1 = get_text_test_anorexia(anxia_test, test_url_anxia, i)\n",
        "\n",
        "    if i == 1: \n",
        "        test_anxia = temp1\n",
        "    else: \n",
        "        for j in range(len(temp1)):\n",
        "            test_anxia[j] += temp1[j]"
      ],
      "metadata": {
        "id": "6tBAwiH2O2Ah"
      },
      "execution_count": null,
      "outputs": []
    },
    {
      "cell_type": "markdown",
      "source": [
        "##Experiment"
      ],
      "metadata": {
        "id": "_DTrRsGRRk6k"
      }
    },
    {
      "cell_type": "code",
      "source": [
        "train_anxia = tr_anorexia\n",
        "test_anxia  = test_anxia\n",
        "\n",
        "labels_anxia = tr_label\n",
        "\n",
        "data_anxia = train_anxia + test_anxia\n",
        "ntrain_anxia = len(train_anxia)\n",
        "\n",
        "t0 = time()\n",
        "\n",
        "x_train_anxia1,y_anxia, x_test_anxia1 = building_bow(data_anxia,  labels_anxia, ntrain_anxia, 1,1,3000, \n",
        "                                                     binary = True, norm = True, verbose = True)"
      ],
      "metadata": {
        "colab": {
          "base_uri": "https://localhost:8080/"
        },
        "id": "1ntWWqDHPy8g",
        "outputId": "e8f4c10e-8a98-4eeb-9577-5704a292cf94"
      },
      "execution_count": null,
      "outputs": [
        {
          "output_type": "stream",
          "name": "stdout",
          "text": [
            "done in 1.433717s (40, 20370) (320, 20370)\n",
            "Extracting best features by a chi-squared test..  (40, 3000) (320, 3000)\n"
          ]
        }
      ]
    },
    {
      "cell_type": "code",
      "source": [
        "x_train_anxia2,y_anxia, x_test_anxia2 = building_bow(data_anxia,  labels_anxia, ntrain_anxia, 1,1,3000, \n",
        "                                                     tf_idf = True, norm = True, verbose = True)\n"
      ],
      "metadata": {
        "colab": {
          "base_uri": "https://localhost:8080/"
        },
        "id": "XCjULVnTSke0",
        "outputId": "8d097eef-379c-4510-8b69-db7b93b76eb6"
      },
      "execution_count": null,
      "outputs": [
        {
          "output_type": "stream",
          "name": "stdout",
          "text": [
            "done in 2.001765s (40, 20370) (320, 20370)\n",
            "Extracting best features by a chi-squared test..  (40, 3000) (320, 3000)\n"
          ]
        }
      ]
    },
    {
      "cell_type": "code",
      "source": [
        "x_train_anxia3,y_anxia, x_test_anxia3 = building_bow(data_anxia, labels_anxia, ntrain_anxia,\n",
        "                                                     2,2,3000, stopwords = True, norm = True, verbose = True)\n",
        "x_train_anxia4,y_anxia, x_test_anxia4= building_bow(data_anxia, labels_anxia, ntrain_anxia, \n",
        "                                                    2,2,4000, tf_idf = True, norm = True, verbose = True)\n",
        "x_train_anxia5,y_anxia, x_test_anxia5= building_bow(data_anxia, labels_anxia, ntrain_anxia, \n",
        "                                                    2,2,3500, binary = True, norm = True, verbose = True)\n"
      ],
      "metadata": {
        "colab": {
          "base_uri": "https://localhost:8080/"
        },
        "id": "d1tBb_2PTJ85",
        "outputId": "3d49169a-e1cf-4309-e2f9-05f91bc6adef"
      },
      "execution_count": null,
      "outputs": [
        {
          "output_type": "stream",
          "name": "stdout",
          "text": [
            "done in 3.796687s (40, 154718) (320, 154718)\n",
            "Extracting best features by a chi-squared test..  (40, 3000) (320, 3000)\n",
            "done in 2.659805s (40, 179725) (320, 179725)\n",
            "Extracting best features by a chi-squared test..  (40, 4000) (320, 4000)\n",
            "done in 2.424653s (40, 179725) (320, 179725)\n",
            "Extracting best features by a chi-squared test..  (40, 3500) (320, 3500)\n"
          ]
        }
      ]
    },
    {
      "cell_type": "code",
      "source": [
        "parameters = {'C': [.05, .12, .25, .5, 1, 2, 4]}\n",
        "\n",
        "svr = svm.LinearSVC(class_weight = 'balanced')\n",
        "grid = GridSearchCV(estimator = svr, param_grid = parameters, n_jobs = 8, scoring = 'f1_macro', cv = 5)\n",
        "\n"
      ],
      "metadata": {
        "id": "INOuvSyiTalg"
      },
      "execution_count": null,
      "outputs": []
    },
    {
      "cell_type": "code",
      "source": [
        "grid.fit(x_train_anxia1, y_anxia)\n",
        "\n",
        "y_pred_anxia1 = grid.predict(x_test_anxia1)\n",
        "\n",
        "p , r, f, _ = precision_recall_fscore_support(test_labels_anxia, y_pred_anxia1, average = 'macro', pos_label = 1)\n",
        "\n",
        "print(confusion_matrix(test_labels_anxia, y_pred_anxia1))\n",
        "print(metrics.classification_report(test_labels_anxia,y_pred_anxia1))\n",
        "\n",
        "\n",
        "\n",
        "[p,r,f]"
      ],
      "metadata": {
        "colab": {
          "base_uri": "https://localhost:8080/"
        },
        "id": "qHwSbW1sU6s6",
        "outputId": "0d8e87c4-19df-4f52-f757-22282fee85f2"
      },
      "execution_count": null,
      "outputs": [
        {
          "output_type": "stream",
          "name": "stdout",
          "text": [
            "[[  0 279]\n",
            " [  0  41]]\n",
            "              precision    recall  f1-score   support\n",
            "\n",
            "           0       0.00      0.00      0.00       279\n",
            "           1       0.13      1.00      0.23        41\n",
            "\n",
            "    accuracy                           0.13       320\n",
            "   macro avg       0.06      0.50      0.11       320\n",
            "weighted avg       0.02      0.13      0.03       320\n",
            "\n"
          ]
        },
        {
          "output_type": "stream",
          "name": "stderr",
          "text": [
            "/usr/local/lib/python3.7/dist-packages/sklearn/svm/_base.py:1208: ConvergenceWarning: Liblinear failed to converge, increase the number of iterations.\n",
            "  ConvergenceWarning,\n",
            "/usr/local/lib/python3.7/dist-packages/sklearn/metrics/_classification.py:1318: UndefinedMetricWarning: Precision and F-score are ill-defined and being set to 0.0 in labels with no predicted samples. Use `zero_division` parameter to control this behavior.\n",
            "  _warn_prf(average, modifier, msg_start, len(result))\n",
            "/usr/local/lib/python3.7/dist-packages/sklearn/metrics/_classification.py:1318: UndefinedMetricWarning: Precision and F-score are ill-defined and being set to 0.0 in labels with no predicted samples. Use `zero_division` parameter to control this behavior.\n",
            "  _warn_prf(average, modifier, msg_start, len(result))\n",
            "/usr/local/lib/python3.7/dist-packages/sklearn/metrics/_classification.py:1318: UndefinedMetricWarning: Precision and F-score are ill-defined and being set to 0.0 in labels with no predicted samples. Use `zero_division` parameter to control this behavior.\n",
            "  _warn_prf(average, modifier, msg_start, len(result))\n",
            "/usr/local/lib/python3.7/dist-packages/sklearn/metrics/_classification.py:1318: UndefinedMetricWarning: Precision and F-score are ill-defined and being set to 0.0 in labels with no predicted samples. Use `zero_division` parameter to control this behavior.\n",
            "  _warn_prf(average, modifier, msg_start, len(result))\n"
          ]
        },
        {
          "output_type": "execute_result",
          "data": {
            "text/plain": [
              "[0.0640625, 0.5, 0.11357340720221605]"
            ]
          },
          "metadata": {},
          "execution_count": 112
        }
      ]
    },
    {
      "cell_type": "code",
      "source": [
        "grid.fit(x_train_anxia2, y_anxia)\n",
        "\n",
        "y_pred_anxia2 = grid.predict(x_test_anxia2)\n",
        "\n",
        "p , r, f, _ = precision_recall_fscore_support(test_labels_anxia, y_pred_anxia2, average = 'macro', pos_label = 1)\n",
        "\n",
        "print(confusion_matrix(test_labels_anxia, y_pred_anxia2))\n",
        "print(metrics.classification_report(test_labels_anxia,y_pred_anxia2))\n"
      ],
      "metadata": {
        "colab": {
          "base_uri": "https://localhost:8080/"
        },
        "id": "-6EttNk7VXlU",
        "outputId": "a61c8316-ea71-46ed-9aff-7d391500a5e9"
      },
      "execution_count": null,
      "outputs": [
        {
          "output_type": "stream",
          "name": "stdout",
          "text": [
            "[[279   0]\n",
            " [ 41   0]]\n",
            "              precision    recall  f1-score   support\n",
            "\n",
            "           0       0.87      1.00      0.93       279\n",
            "           1       0.00      0.00      0.00        41\n",
            "\n",
            "    accuracy                           0.87       320\n",
            "   macro avg       0.44      0.50      0.47       320\n",
            "weighted avg       0.76      0.87      0.81       320\n",
            "\n"
          ]
        },
        {
          "output_type": "stream",
          "name": "stderr",
          "text": [
            "/usr/local/lib/python3.7/dist-packages/sklearn/metrics/_classification.py:1318: UndefinedMetricWarning: Precision and F-score are ill-defined and being set to 0.0 in labels with no predicted samples. Use `zero_division` parameter to control this behavior.\n",
            "  _warn_prf(average, modifier, msg_start, len(result))\n",
            "/usr/local/lib/python3.7/dist-packages/sklearn/metrics/_classification.py:1318: UndefinedMetricWarning: Precision and F-score are ill-defined and being set to 0.0 in labels with no predicted samples. Use `zero_division` parameter to control this behavior.\n",
            "  _warn_prf(average, modifier, msg_start, len(result))\n",
            "/usr/local/lib/python3.7/dist-packages/sklearn/metrics/_classification.py:1318: UndefinedMetricWarning: Precision and F-score are ill-defined and being set to 0.0 in labels with no predicted samples. Use `zero_division` parameter to control this behavior.\n",
            "  _warn_prf(average, modifier, msg_start, len(result))\n",
            "/usr/local/lib/python3.7/dist-packages/sklearn/metrics/_classification.py:1318: UndefinedMetricWarning: Precision and F-score are ill-defined and being set to 0.0 in labels with no predicted samples. Use `zero_division` parameter to control this behavior.\n",
            "  _warn_prf(average, modifier, msg_start, len(result))\n"
          ]
        }
      ]
    },
    {
      "cell_type": "code",
      "source": [
        "grid.fit(x_train_anxia3, y_anxia)\n",
        "\n",
        "y_pred_anxia3 = grid.predict(x_test_anxia3)\n",
        "\n",
        "p , r, f, _ = precision_recall_fscore_support(test_labels_anxia, y_pred_anxia3, average = 'macro', pos_label = 1)\n",
        "\n",
        "print(confusion_matrix(test_labels_anxia, y_pred_anxia3))\n",
        "print(metrics.classification_report(test_labels_anxia,y_pred_anxia3))"
      ],
      "metadata": {
        "colab": {
          "base_uri": "https://localhost:8080/"
        },
        "id": "hAuNNwBRVmly",
        "outputId": "1403380e-71a1-45e4-9ce1-ca4aacb13caf"
      },
      "execution_count": null,
      "outputs": [
        {
          "output_type": "stream",
          "name": "stdout",
          "text": [
            "[[279   0]\n",
            " [ 41   0]]\n",
            "              precision    recall  f1-score   support\n",
            "\n",
            "           0       0.87      1.00      0.93       279\n",
            "           1       0.00      0.00      0.00        41\n",
            "\n",
            "    accuracy                           0.87       320\n",
            "   macro avg       0.44      0.50      0.47       320\n",
            "weighted avg       0.76      0.87      0.81       320\n",
            "\n"
          ]
        },
        {
          "output_type": "stream",
          "name": "stderr",
          "text": [
            "/usr/local/lib/python3.7/dist-packages/sklearn/metrics/_classification.py:1318: UndefinedMetricWarning: Precision and F-score are ill-defined and being set to 0.0 in labels with no predicted samples. Use `zero_division` parameter to control this behavior.\n",
            "  _warn_prf(average, modifier, msg_start, len(result))\n",
            "/usr/local/lib/python3.7/dist-packages/sklearn/metrics/_classification.py:1318: UndefinedMetricWarning: Precision and F-score are ill-defined and being set to 0.0 in labels with no predicted samples. Use `zero_division` parameter to control this behavior.\n",
            "  _warn_prf(average, modifier, msg_start, len(result))\n",
            "/usr/local/lib/python3.7/dist-packages/sklearn/metrics/_classification.py:1318: UndefinedMetricWarning: Precision and F-score are ill-defined and being set to 0.0 in labels with no predicted samples. Use `zero_division` parameter to control this behavior.\n",
            "  _warn_prf(average, modifier, msg_start, len(result))\n",
            "/usr/local/lib/python3.7/dist-packages/sklearn/metrics/_classification.py:1318: UndefinedMetricWarning: Precision and F-score are ill-defined and being set to 0.0 in labels with no predicted samples. Use `zero_division` parameter to control this behavior.\n",
            "  _warn_prf(average, modifier, msg_start, len(result))\n"
          ]
        }
      ]
    },
    {
      "cell_type": "code",
      "source": [
        "grid.fit(x_train_anxia4, y_anxia)\n",
        "\n",
        "y_pred_anxia4 = grid.predict(x_test_anxia4)\n",
        "\n",
        "p , r, f, _ = precision_recall_fscore_support(test_labels_anxia, y_pred_anxia4, average = 'macro', pos_label = 1)\n",
        "\n",
        "print(confusion_matrix(test_labels_anxia, y_pred_anxia4))\n",
        "print(metrics.classification_report(test_labels_anxia,y_pred_anxia4))"
      ],
      "metadata": {
        "colab": {
          "base_uri": "https://localhost:8080/"
        },
        "id": "Gd55DIiRVqV4",
        "outputId": "beafcb1b-1281-4259-dc9a-2746d53100f8"
      },
      "execution_count": null,
      "outputs": [
        {
          "output_type": "stream",
          "name": "stdout",
          "text": [
            "[[  0 279]\n",
            " [  0  41]]\n",
            "              precision    recall  f1-score   support\n",
            "\n",
            "           0       0.00      0.00      0.00       279\n",
            "           1       0.13      1.00      0.23        41\n",
            "\n",
            "    accuracy                           0.13       320\n",
            "   macro avg       0.06      0.50      0.11       320\n",
            "weighted avg       0.02      0.13      0.03       320\n",
            "\n"
          ]
        },
        {
          "output_type": "stream",
          "name": "stderr",
          "text": [
            "/usr/local/lib/python3.7/dist-packages/sklearn/metrics/_classification.py:1318: UndefinedMetricWarning: Precision and F-score are ill-defined and being set to 0.0 in labels with no predicted samples. Use `zero_division` parameter to control this behavior.\n",
            "  _warn_prf(average, modifier, msg_start, len(result))\n",
            "/usr/local/lib/python3.7/dist-packages/sklearn/metrics/_classification.py:1318: UndefinedMetricWarning: Precision and F-score are ill-defined and being set to 0.0 in labels with no predicted samples. Use `zero_division` parameter to control this behavior.\n",
            "  _warn_prf(average, modifier, msg_start, len(result))\n",
            "/usr/local/lib/python3.7/dist-packages/sklearn/metrics/_classification.py:1318: UndefinedMetricWarning: Precision and F-score are ill-defined and being set to 0.0 in labels with no predicted samples. Use `zero_division` parameter to control this behavior.\n",
            "  _warn_prf(average, modifier, msg_start, len(result))\n",
            "/usr/local/lib/python3.7/dist-packages/sklearn/metrics/_classification.py:1318: UndefinedMetricWarning: Precision and F-score are ill-defined and being set to 0.0 in labels with no predicted samples. Use `zero_division` parameter to control this behavior.\n",
            "  _warn_prf(average, modifier, msg_start, len(result))\n"
          ]
        }
      ]
    },
    {
      "cell_type": "code",
      "source": [
        "grid.fit(x_train_anxia5, y_anxia)\n",
        "\n",
        "y_pred_anxia5 = grid.predict(x_test_anxia5)\n",
        "\n",
        "p , r, f, _ = precision_recall_fscore_support(test_labels_anxia, y_pred_anxia5, average = 'macro', pos_label = 1)\n",
        "\n",
        "print(confusion_matrix(test_labels_anxia, y_pred_anxia5))\n",
        "print(metrics.classification_report(test_labels_anxia,y_pred_anxia5))"
      ],
      "metadata": {
        "colab": {
          "base_uri": "https://localhost:8080/"
        },
        "id": "H8XQ5AANV_mV",
        "outputId": "5088f6dd-2aa3-48be-e648-c3a460545719"
      },
      "execution_count": null,
      "outputs": [
        {
          "output_type": "stream",
          "name": "stdout",
          "text": [
            "[[279   0]\n",
            " [ 41   0]]\n",
            "              precision    recall  f1-score   support\n",
            "\n",
            "           0       0.87      1.00      0.93       279\n",
            "           1       0.00      0.00      0.00        41\n",
            "\n",
            "    accuracy                           0.87       320\n",
            "   macro avg       0.44      0.50      0.47       320\n",
            "weighted avg       0.76      0.87      0.81       320\n",
            "\n"
          ]
        },
        {
          "output_type": "stream",
          "name": "stderr",
          "text": [
            "/usr/local/lib/python3.7/dist-packages/sklearn/svm/_base.py:1208: ConvergenceWarning: Liblinear failed to converge, increase the number of iterations.\n",
            "  ConvergenceWarning,\n",
            "/usr/local/lib/python3.7/dist-packages/sklearn/metrics/_classification.py:1318: UndefinedMetricWarning: Precision and F-score are ill-defined and being set to 0.0 in labels with no predicted samples. Use `zero_division` parameter to control this behavior.\n",
            "  _warn_prf(average, modifier, msg_start, len(result))\n",
            "/usr/local/lib/python3.7/dist-packages/sklearn/metrics/_classification.py:1318: UndefinedMetricWarning: Precision and F-score are ill-defined and being set to 0.0 in labels with no predicted samples. Use `zero_division` parameter to control this behavior.\n",
            "  _warn_prf(average, modifier, msg_start, len(result))\n",
            "/usr/local/lib/python3.7/dist-packages/sklearn/metrics/_classification.py:1318: UndefinedMetricWarning: Precision and F-score are ill-defined and being set to 0.0 in labels with no predicted samples. Use `zero_division` parameter to control this behavior.\n",
            "  _warn_prf(average, modifier, msg_start, len(result))\n",
            "/usr/local/lib/python3.7/dist-packages/sklearn/metrics/_classification.py:1318: UndefinedMetricWarning: Precision and F-score are ill-defined and being set to 0.0 in labels with no predicted samples. Use `zero_division` parameter to control this behavior.\n",
            "  _warn_prf(average, modifier, msg_start, len(result))\n"
          ]
        }
      ]
    },
    {
      "cell_type": "code",
      "source": [
        ""
      ],
      "metadata": {
        "id": "ihvwAceKWG9z"
      },
      "execution_count": null,
      "outputs": []
    }
  ]
}