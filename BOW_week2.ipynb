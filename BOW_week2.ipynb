{
  "nbformat": 4,
  "nbformat_minor": 0,
  "metadata": {
    "colab": {
      "name": "BOW_week2.ipynb",
      "provenance": [],
      "collapsed_sections": [],
      "toc_visible": true,
      "mount_file_id": "1nd9b0iRoLJSqxPJPNajbX3cJO_DUTRlX",
      "authorship_tag": "ABX9TyPslTRQjabGDAOC20NNv45d",
      "include_colab_link": true
    },
    "kernelspec": {
      "name": "python3",
      "display_name": "Python 3"
    },
    "language_info": {
      "name": "python"
    }
  },
  "cells": [
    {
      "cell_type": "markdown",
      "metadata": {
        "id": "view-in-github",
        "colab_type": "text"
      },
      "source": [
        "<a href=\"https://colab.research.google.com/github/MariGaS/Proyecto_Tecnologico/blob/main/BOW_week2.ipynb\" target=\"_parent\"><img src=\"https://colab.research.google.com/assets/colab-badge.svg\" alt=\"Open In Colab\"/></a>"
      ]
    },
    {
      "cell_type": "code",
      "source": [
        "from sklearn.feature_extraction.text import TfidfVectorizer, CountVectorizer\n",
        "from sklearn.feature_selection import SelectKBest, chi2\n",
        "import scipy.sparse as sp\n",
        "from time import time\n",
        "import numpy as np\n",
        "import os\n",
        "import re\n",
        "from os import listdir\n",
        "from os.path import isfile, join\n"
      ],
      "metadata": {
        "id": "fs21Iz0m69Wm"
      },
      "execution_count": 1,
      "outputs": []
    },
    {
      "cell_type": "code",
      "source": [
        "from sklearn import svm \n",
        "from sklearn.model_selection import GridSearchCV\n",
        "from sklearn import metrics\n",
        "from sklearn.metrics import accuracy_score, confusion_matrix, f1_score, precision_recall_fscore_support, roc_auc_score"
      ],
      "metadata": {
        "id": "No3miY0PQyOL"
      },
      "execution_count": 2,
      "outputs": []
    },
    {
      "cell_type": "markdown",
      "source": [
        "#Depression 2022\n"
      ],
      "metadata": {
        "id": "DcOhb2dapcEG"
      }
    },
    {
      "cell_type": "markdown",
      "source": [
        "## Using xlm.etree for text extration"
      ],
      "metadata": {
        "id": "Rl2x4D9ywJ9x"
      }
    },
    {
      "cell_type": "code",
      "source": [
        "import xml.etree.ElementTree as ET #library for read xml archives "
      ],
      "metadata": {
        "id": "mMIlTnpLqMcc"
      },
      "execution_count": 3,
      "outputs": []
    },
    {
      "cell_type": "code",
      "source": [
        "tree = ET.parse('/content/drive/MyDrive/Proyecto_Tecnologico/Data/depression2022/training data/2017 cases/pos/test_subject1345.xml') #we defined the tree with the archive, this command parse the .xml"
      ],
      "metadata": {
        "id": "OI6HpZ6wnUWl"
      },
      "execution_count": 4,
      "outputs": []
    },
    {
      "cell_type": "code",
      "source": [
        "root = tree.getroot() #obtained the root of the archive, root[0] correspond to the id user , root[1], root[2], etc correspond to WRITING tag"
      ],
      "metadata": {
        "id": "k4HSXK8hpTvK"
      },
      "execution_count": 5,
      "outputs": []
    },
    {
      "cell_type": "code",
      "source": [
        "root[22][3].text #for each writing tag we can acces to the text indexing the writinig like root[i][3].text"
      ],
      "metadata": {
        "colab": {
          "base_uri": "https://localhost:8080/",
          "height": 36
        },
        "id": "Iru7f5Zmph3R",
        "outputId": "92a4a19f-279e-4030-df40-86158ba856c6"
      },
      "execution_count": 6,
      "outputs": [
        {
          "output_type": "execute_result",
          "data": {
            "text/plain": [
              "' BRYCE MVP CONFIRMED  '"
            ],
            "application/vnd.google.colaboratory.intrinsic+json": {
              "type": "string"
            }
          },
          "metadata": {},
          "execution_count": 6
        }
      ]
    },
    {
      "cell_type": "code",
      "source": [
        "hist_post = [] # list with entries from the user \n",
        "\n",
        "#iterate recursively over all the sub-tree \n",
        "#source : https://docs.python.org/3/library/xml.etree.elementtree.html\n",
        "for post in root.iter('TEXT'): \n",
        "    entry = post.text\n",
        "    entry = entry.replace('\\n', ' ') \n",
        "    entry = entry.replace(\"\\'\",\"'\") \n",
        "\n",
        "    if entry == ' ' or entry == '  ':\n",
        "        continue \n",
        "    else: \n",
        "        hist_post.append(entry[1:-1])"
      ],
      "metadata": {
        "id": "sJyFbayvpod2"
      },
      "execution_count": 7,
      "outputs": []
    },
    {
      "cell_type": "code",
      "source": [
        "all_post = \" \" #concatenate all post \n",
        "for i in range(len(hist_post)):\n",
        "    all_post = all_post + hist_post[i] + \" \""
      ],
      "metadata": {
        "id": "FLQJzQQ710nB"
      },
      "execution_count": 8,
      "outputs": []
    },
    {
      "cell_type": "code",
      "source": [
        "all_post"
      ],
      "metadata": {
        "colab": {
          "base_uri": "https://localhost:8080/",
          "height": 110
        },
        "id": "fDsoC7p95aEh",
        "outputId": "6a701d9f-5672-46f3-c52c-4a877936958c"
      },
      "execution_count": 9,
      "outputs": [
        {
          "output_type": "execute_result",
          "data": {
            "text/plain": [
              "' So many unwanted Smith fadeaways. Hey guys, Celtics fan here pulling hard for the Rockets to win it all. Huge Harden fan. I\\'m wondering if anybody has a stat of how many total mid range jumpers the Rockets took during the regular season. I know they don\\'t take many, even less before Josh Smith, but if anybody has the total that\\'d be sweet. Go Rockets! Well he got 2 tonight so maybe he\\'ll be able to scrape together some AB\\'s. I agree with you though I mean he\\'ll get pinch hits and an occasional day but I\\'m afraid he\\'s gonna lose his swing or something Yeah you\\'re probably right. Oh well.  I guess that\\'s true. You make a valid point but he\\'s just watching. he\\'s not going to get any playing time with our core back and healthy and playing so well, I would just rather him stay hot and keep hitting. I just think I\\'d rather have him getting everyday at bats instead of sitting on our bench with Clint Robinson and Danny. I\\'d rather him getting the consistent at bats even if it is against AAA pitchers. What do you guys think? Why can\\'t Carpenter be good against everyone but us. Curse you fantasy... I can only assume \"cash\" means we\\'re getting [this guy.](http://www.korkedbats.com/wp-content/uploads/2014/08/LLWS-Pics-Cash-Money-2.jpg) Bryce=GOAT I have Carpenter and Heyward on my fantasy so I don\\'t know what I want. Just kidding, FUCK THE CARDS  Kelly GOATlynyk putting on a Kelly Oclinic right now #STOREIT Hey guys, we\\'re winning. This is crazy. Guys check it out! I know I\\'m 5 months late to this, but I need this. So thank you person, thank you Go dukes! 6 unearned runs in this series arguably all because of Desmond\\'s April woes. Unbelievable.  Yeah 106.7 the fan is really good, unless you\\'re not in the DC area then you won\\'t get that, and then I\\'m no help... Still would rather den Dekker out there... 161-1 HERE WE COME!!!!! BRYCE MVP CONFIRMED  Kelly Olynyk, and that\\'s it AAHHHHHH!!!!! Proving that not every statistic is interesting. boooo Guess who just voted for the Yard Goats as my 1st, 2nd, and 3rd place choices! Goat images/facts please Skipped my first 2 classes because of this exact thing.  Thanks for bringing a smile to my face. What did I just read. That\\'s what I\\'m thinking https://twitter.com/realtonytiger/status/570266932626067456?s=09 I went from jmu today and it was fine so if you go tomorrow morning you should be okay. I went the Cass way. Hope this helps Somebody please help all of us. Please. Yeah let me know if you plan on going up though! I\\'m always down to shred snowshoe if I have the money I go to jmu (obligatory \"fuck vt\") but I would definitely try to make it up for a weekend. I don\\'t know if I\\'d be able to do this year (moneys) but in the future for sure! 10 minutes from school so I\\'ll definitely hit you up next time I\\'m there! 10 minutes from school so I\\'ll definitely hit you up next time I\\'m there! Masturbate on an airplane I think it should be AB. He\\'s really grown as a player in the last couple years in terms of scoring. He\\'s stored off a little bit recently so I think making him captain would really get his confidence back up Hey LD. Huge fan! From one kike to another, I was wondering if it\\'s at all scary constantly knowing the cops are after you because you\\'re such a white criminal? #whitecrime that\\'s why when I first listened to it I was skeptical but it\\'s so great for some reason Acid Rap album by Chance the Rapper. This on repeat throughout the day is oddly satisfying I\\'m just very upset that we blew it somehow. You can understand why And here I was telling everyone how great Kelly is and how everybody should love him and how the Celtics totally aren\\'t gonna blow it.....they blew it for some reason Smart has flopped a couple times since he\\'s started playing, which is surprising to me god awful. take a lap Definitely take a sticker over here! What happens if it\\'s so bad I do worse than 1000th place? Click \"Family comes first\" Just replying so I can come back later on my desktop Mary Ann Lincoln You deserve gold my friend He does this every game at one time or another. Look for it every time you go to a game. I sit there every time and it happens every time If you\\'re in town you should show me some good spots! It\\'s a shame. The university kinda sucks but hey they got good pizza. Flying out there December 22nd! I went last summer and my friend and I had the park to ourselves after 8:00. It really is worth the trip.  It\\'s a little jarring at first but trust me if you don\\'t love to far (I live 4 hours away) it\\'s totally worth it. christmas at breck can\\'t come soon enough If you don\\'t mind me asking How much were they though? I did that for my dc\\'s and it\\'s amazing. Good call. Thank you. It doesn\\'t hurt that they are gorgeous boots Definitely about to pick those up. Thank you And they\\'re quality? I\\'ve never bought vans snowboard apparel. Can I trust em? Yeah my local shop seeks last year\\'s model for cheap so I might get em! Thanks How much did you get them for? How many seasons have you gotten out of them? Yeah my local shop does a huge last season\\'s model sale so I\\'m gonna head down in these next few days. I ride dc\\'s now. I got a good 3 seasons out of em but they\\'re shot. Thanks for the advice I am beyond jealous Hey guys. I think we can ask agree we\\'re ready for winter already. With that being said I need new boots. To be honest I\\'ve done zero research so any opinions would be fine. I\\'m looking for a durable but comfortable style. If you like your boots par tell me what they are. Thanks so much fellas Hey Nathan I am a huge fan and I\\'ve seen every episode.   I just want to ask about the girl Rachel. Is that actually how she is or do you exaggerate the awkwardness for the camera? Also when you get her for more than one segment (The Hunk and Quiznos) doesn\\'t she start to ham it up a little too?  Thanks for doing this. Favorite show on television  I always pictured it almost without a face, and that\\'s what made the face so memorable.  Hey G!  I saw you at Firefly and you were definitely my favorite show. Thanks so much for coming!  Question I guess would be who\\'s your favorite rapper to collaborate with? What\\'s your favorite song off of Music is Better than Words? I\\'m new to tagpro and I don\\'t know if I need to download anything additional. However I\\'ve been waiting for an hour on the screen that says \"looking for a game\". HELP I\\'ve been trying to connect for a game for 20 minutes now. I\\'ve tried 2 servers both for 10 minutes and I can\\'t connect. Can anybody help me? The beginning of all the Assassin\\'s Creed games. Before you can free roam and kill people and just have fun. You have to do all of these pointless missions I don\\'t know who you are, but...yeah you got it right. prison break  edit: at least the first 2 seasons \"I will find you, and I will kill you\" What did he get you?! it can be anything from a smell to a movie to your mother in law... E.T. his entire character scared me. I watched it when I was 6 and cried because i was scared. I haven\\'t watched it since... You know I\\'ve been thinking fish recently. 40 oz. to freedom wealth does not equal happiness.  \"Twenty years from now you will be more disappointed by the things you didn\\'t do than by the ones you did. So throw off the bowlines. Sail away from the safe harbor. Catch the trade winds in your sails. Explore. Dream. Discover\" -Mark Twain you sir have hair on your peaches. thats for sure. good for you. one more question. what\\'s the most common question you get from a confused guy? but does it actually work? also how did you exactly apply for this job? do you hit on girls who are buying lingerie. it just seems to easy. i mean they cant say no...because of the implication.  I just want to know how you don\\'t know anybody named chris? thank you so much! I\\'m writing my college essay on why I love my home town so much, and I\\'m running out of ideas. If you guys could help me out because clearly you love it too, that would be great. Does anybody know where I can buy a Jack Daniels Shirt in person. I don\\'t want to order it because it\\'s for my German foreign exchange student and I need it before he leaves! thanks! thanks so much! I\\'ve been looking for the video game \"Earth Defense Force: Insect Armageddon\" for sometime now. Will buy and pay for shipping at a reasonable cost. '"
            ],
            "application/vnd.google.colaboratory.intrinsic+json": {
              "type": "string"
            }
          },
          "metadata": {},
          "execution_count": 9
        }
      ]
    },
    {
      "cell_type": "markdown",
      "source": [
        "# Concatenate posts for users in Depression 2022"
      ],
      "metadata": {
        "id": "sMZWveIu9IvT"
      }
    },
    {
      "cell_type": "code",
      "source": [
        "def get_urls(path): \n",
        "    onlyfiles = [f for f in listdir(path) if isfile(join(path, f))]\n",
        "    onlyfiles.sort()\n",
        "\n",
        "    return onlyfiles"
      ],
      "metadata": {
        "id": "4pCHZhF1Bg7M"
      },
      "execution_count": 10,
      "outputs": []
    },
    {
      "cell_type": "code",
      "source": [
        "def get_text_post_train(user_path):\n",
        "    tree = ET.parse(user_path)\n",
        "    root = tree.getroot()\n",
        "    hist_post = [] # list with entries from the user \n",
        "\n",
        "    #iterate recursively over all the sub-tree \n",
        "    #source : https://docs.python.org/3/library/xml.etree.elementtree.html\n",
        "    for post in root.iter('TEXT'): \n",
        "        entry = post.text\n",
        "        entry = entry.replace('\\n', ' ') \n",
        "\n",
        "        if entry == ' ' or entry == '  ':\n",
        "            continue \n",
        "        else: \n",
        "            hist_post.append(entry[1:-1])\n",
        "    \n",
        "    ##--------concatenate post -------------#\n",
        "    all_post = \"\" #concatenate all post \n",
        "    for i in range(len(hist_post)):\n",
        "        all_post = all_post + hist_post[i] + \" \"\n",
        "    \n",
        "    return all_post "
      ],
      "metadata": {
        "id": "Goa0BO_PI56S"
      },
      "execution_count": 11,
      "outputs": []
    },
    {
      "cell_type": "code",
      "source": [
        "def get_text_labels(path, polarity = 'Negative'): \n",
        "    all_documents = [] #list with all the documents \n",
        "    all_label = [] #label \n",
        "\n",
        "    user_path = get_urls(path)\n",
        "    for i in range(len(user_path)): \n",
        "        subject = user_path[i] #for example test_subjet1005.xml \n",
        "        path_subject = path + '/' + subject \n",
        "        document = get_text_post_train(path_subject) #get document with all the history of a user \n",
        "\n",
        "        all_documents += [document] \n",
        "        if polarity == 'Negative' : \n",
        "            all_label += [0]\n",
        "        else: \n",
        "            all_label += [1]\n",
        "\n",
        "    return all_documents, all_label \n",
        "\n",
        "\n"
      ],
      "metadata": {
        "id": "MWZuAKVdIPaC"
      },
      "execution_count": 12,
      "outputs": []
    },
    {
      "cell_type": "code",
      "source": [
        "train_neg_2017 = '/content/drive/MyDrive/Proyecto_Tecnologico/Data/depression2022/training data/2017 cases/neg'\n",
        "train_pos_2017 = '/content/drive/MyDrive/Proyecto_Tecnologico/Data/depression2022/training data/2017 cases/pos'\n",
        "train_neg_2018 = '/content/drive/MyDrive/Proyecto_Tecnologico/Data/depression2022/training data/2018 cases/neg'\n",
        "train_pos_2018 = '/content/drive/MyDrive/Proyecto_Tecnologico/Data/depression2022/training data/2018 cases/pos'"
      ],
      "metadata": {
        "id": "dnJRV4zOK-m9"
      },
      "execution_count": 13,
      "outputs": []
    },
    {
      "cell_type": "code",
      "source": [
        "tr_neg_2017, tr_lab_2017 = get_text_labels(train_neg_2017, polarity= 'Negative')"
      ],
      "metadata": {
        "id": "eNgTijgOLQZl"
      },
      "execution_count": 14,
      "outputs": []
    },
    {
      "cell_type": "code",
      "source": [
        "tr_pos_2017, tr_lab_pos_2017 = get_text_labels(train_pos_2017, polarity= 'Pos')"
      ],
      "metadata": {
        "id": "e_tIk2iiLuS2"
      },
      "execution_count": 15,
      "outputs": []
    },
    {
      "cell_type": "code",
      "source": [
        "tr_neg_2018, tr_lab_2018 = get_text_labels(train_neg_2018, polarity= 'Negative')\n",
        "tr_pos_2018, tr_lab_pos_2018 = get_text_labels(train_pos_2018, polarity= 'Pos')"
      ],
      "metadata": {
        "id": "n0eBTYDwMLfk"
      },
      "execution_count": 16,
      "outputs": []
    },
    {
      "cell_type": "markdown",
      "source": [
        "### All training data 2017 "
      ],
      "metadata": {
        "id": "0ccKhFfsHp5i"
      }
    },
    {
      "cell_type": "code",
      "source": [
        "tr_txt_2017 = [*tr_neg_2017, *tr_pos_2017] \n",
        "tr_y_2017   = [*tr_lab_2017, *tr_lab_pos_2017]"
      ],
      "metadata": {
        "id": "mX9p5K8AN3ZW"
      },
      "execution_count": 17,
      "outputs": []
    },
    {
      "cell_type": "markdown",
      "source": [
        "### All training data 2018 "
      ],
      "metadata": {
        "id": "4Cj6Y6OPHwDF"
      }
    },
    {
      "cell_type": "code",
      "source": [
        "tr_txt_2018 = [*tr_neg_2018, *tr_pos_2018] \n",
        "tr_y_2018   = [*tr_lab_2018, *tr_lab_pos_2018]"
      ],
      "metadata": {
        "id": "baIJqY67OhuR"
      },
      "execution_count": 18,
      "outputs": []
    },
    {
      "cell_type": "code",
      "source": [
        "from collections import Counter\n",
        "import matplotlib.pyplot as plt\n",
        "%matplotlib inline\n",
        "\n",
        "print(Counter(tr_y_2017))\n",
        "plt.hist(tr_y_2017, bins=len(set(tr_y_2017)))\n",
        "plt.ylabel('Users');\n",
        "plt.xlabel('Class');"
      ],
      "metadata": {
        "colab": {
          "base_uri": "https://localhost:8080/",
          "height": 297
        },
        "id": "uIHQLuZW6ki_",
        "outputId": "86449989-6a4f-41d1-cf68-e835951781ae"
      },
      "execution_count": 19,
      "outputs": [
        {
          "output_type": "stream",
          "name": "stdout",
          "text": [
            "Counter({0: 752, 1: 135})\n"
          ]
        },
        {
          "output_type": "display_data",
          "data": {
            "text/plain": [
              "<Figure size 432x288 with 1 Axes>"
            ],
            "image/png": "[encoded data removed]"
          },
          "metadata": {
            "needs_background": "light"
          }
        }
      ]
    },
    {
      "cell_type": "code",
      "source": [
        "print(Counter(tr_y_2018))\n",
        "plt.hist(tr_y_2018, bins=len(set(tr_y_2018)))\n",
        "plt.ylabel('Users');\n",
        "plt.xlabel('Class');"
      ],
      "metadata": {
        "colab": {
          "base_uri": "https://localhost:8080/",
          "height": 297
        },
        "id": "_xTQuaCt6nXw",
        "outputId": "0bce424b-704f-4f6d-9683-135e9c7d4780"
      },
      "execution_count": 20,
      "outputs": [
        {
          "output_type": "stream",
          "name": "stdout",
          "text": [
            "Counter({0: 741, 1: 79})\n"
          ]
        },
        {
          "output_type": "display_data",
          "data": {
            "text/plain": [
              "<Figure size 432x288 with 1 Axes>"
            ],
            "image/png": "[encoded data removed]"
          },
          "metadata": {
            "needs_background": "light"
          }
        }
      ]
    },
    {
      "cell_type": "markdown",
      "source": [
        "#Constructing BOW"
      ],
      "metadata": {
        "id": "YXhDKT-W7GPU"
      }
    },
    {
      "cell_type": "code",
      "source": [
        "def normalize(document): \n",
        "\n",
        "    document = [re.sub(r'https?:\\/\\/\\S+', '', x) for x in document] #eliminate url\n",
        "    document = [re.sub(r\"www\\.[a-z]?\\.?(com)+|[a-z]+\\.(com)\", '', x) for x in document] #eliminate url \n",
        "    document = [re.sub(r'{link}', '', x) for x in document] #eliminate link\n",
        "    document = [re.sub(r\"\\[video\\]\", '', x) for x in document] #eliminate video \n",
        "    document = [re.sub(r'\\s+', ' ' '', x).strip() for x in document]\n",
        "    document = [x.replace(\"#\",\"\") for x in document]  #eliminate #\n",
        "    document = [re.subn(r'[^\\w\\s,]',\"\", x)[0].strip() for x in document] #eliminate emoticons \n",
        "\n",
        "    return document"
      ],
      "metadata": {
        "id": "iDLI31FvDX1R"
      },
      "execution_count": 21,
      "outputs": []
    },
    {
      "cell_type": "code",
      "source": [
        "from sklearn.pipeline import Pipeline\n",
        "from sklearn.feature_extraction.text import TfidfTransformer"
      ],
      "metadata": {
        "id": "76gI3s1pVCnU"
      },
      "execution_count": 22,
      "outputs": []
    },
    {
      "cell_type": "code",
      "source": [
        "def building_bow(data, labels,ntrain, min = 1, max = 1, num_feat = 3000, binary = False, tf= False, tf_idf = False, \n",
        "                 norm = False, stopwords = False, verbose = True, analyzer_char = False):\n",
        "    documents = data \n",
        "    if norm == True:\n",
        "        documents = normalize(documents)\n",
        "\n",
        "    #split the data\n",
        "    #x_train, x_val, y_train, y_val = train_test_split(documents, labels, test_size= split, random_state=42)\n",
        "    x_train = documents[:ntrain]\n",
        "    x_val   = documents[ntrain:]\n",
        "    y_train = labels[:ntrain] \n",
        "    t_initial = time()\n",
        "\n",
        "    analyzer_type = 'word' #https://scikit-learn.org/stable/modules/generated/sklearn.feature_extraction.text.CountVectorizer.html\n",
        "    if analyzer_char == True:\n",
        "        analyzer_type = 'char' \n",
        "\n",
        "    if binary == True: \n",
        "        vectorizer = CountVectorizer(ngram_range=(min,max),binary=True)\n",
        "    elif stopwords == True: \n",
        "        vectorizer = TfidfVectorizer(ngram_range=(min,max),stop_words='english',\n",
        "                                     analyzer=analyzer_type,sublinear_tf=True)\n",
        "    else: \n",
        "        vectorizer = TfidfVectorizer(ngram_range=(min,max),sublinear_tf=True,analyzer=analyzer_type)\n",
        "\n",
        "    X_train = vectorizer.fit_transform(x_train)\n",
        "    X_val = vectorizer.transform(x_val)\n",
        "    \n",
        "    if tf == True: \n",
        "        pipe = Pipeline([('count', CountVectorizer(ngram_range=(min,max),binary=True)),             \n",
        "        ('tfid', TfidfTransformer(use_idf = False))]).fit(x_train)\n",
        "\n",
        "        \n",
        "        X_train = pipe['count'].transform(x_train).toarray()\n",
        "\n",
        "        pipe = Pipeline([('count', CountVectorizer(ngram_range=(min,max),binary=True)),             \n",
        "        ('tfid', TfidfTransformer(use_idf = False))]).fit(x_val)\n",
        "        X_val =  pipe['count'].transform(x_val).toarray()\n",
        "\n",
        "    if verbose:\n",
        "        print(\"done in %fs\" % (time() - t_initial), X_train.shape, X_val.shape)\n",
        "    \n",
        "    y = np.array(y_train) \n",
        "   \n",
        "    \n",
        "    if num_feat < X_train.shape[1]:\n",
        "        t0 = time()\n",
        "        ch2 = SelectKBest(chi2, k=num_feat)\n",
        "        X_train = ch2.fit_transform(X_train, y)\n",
        "        X_test = ch2.transform(X_val)\n",
        "        assert sp.issparse(X_train)        \n",
        "\n",
        "    if verbose:\n",
        "        print(\"Extracting best features by a chi-squared test.. \", X_train.shape, X_test.shape)\n",
        "    return X_train, y, X_test\n"
      ],
      "metadata": {
        "id": "omXxYW-UFKYi"
      },
      "execution_count": 23,
      "outputs": []
    },
    {
      "cell_type": "markdown",
      "source": [
        "## Experiments, test data : 2018"
      ],
      "metadata": {
        "id": "kdgD5v9XIa9Z"
      }
    },
    {
      "cell_type": "code",
      "source": [
        "train = tr_txt_2017\n",
        "test  = tr_txt_2018\n",
        "\n",
        "labels = tr_y_2017\n",
        "\n",
        "data = train +test \n",
        "ntrain = len(train)\n",
        "\n",
        "t0 = time()\n"
      ],
      "metadata": {
        "id": "XQVCRh1N4K0E"
      },
      "execution_count": 24,
      "outputs": []
    },
    {
      "cell_type": "code",
      "source": [
        "parameters = {'C': [.05, .12, .25, .5, 1, 2, 4]}\n",
        "\n",
        "svr = svm.LinearSVC(class_weight = 'balanced')\n",
        "grid_depression = GridSearchCV(estimator = svr, param_grid = parameters, n_jobs = 8, scoring = 'f1_macro', cv = 5)"
      ],
      "metadata": {
        "id": "xLfbw7TG7Q2j"
      },
      "execution_count": 25,
      "outputs": []
    },
    {
      "cell_type": "markdown",
      "source": [
        "### Experiment 1"
      ],
      "metadata": {
        "id": "fJzHStf84wIT"
      }
    },
    {
      "cell_type": "code",
      "source": [
        "x_train1,y_train1, x_test1 = building_bow(data, labels, ntrain, 1,1,3500, binary = True, norm = True, verbose = True)"
      ],
      "metadata": {
        "colab": {
          "base_uri": "https://localhost:8080/"
        },
        "id": "LoNv6FC-4rfL",
        "outputId": "5bf15722-9f36-401e-8747-4ffdcbdc627c"
      },
      "execution_count": 26,
      "outputs": [
        {
          "output_type": "stream",
          "name": "stdout",
          "text": [
            "done in 20.936725s (887, 221702) (820, 221702)\n",
            "Extracting best features by a chi-squared test..  (887, 3500) (820, 3500)\n"
          ]
        }
      ]
    },
    {
      "cell_type": "code",
      "source": [
        "grid_depression.fit(x_train1, y_train1)\n",
        "\n",
        "y_pred = grid_depression.predict(x_test1)\n",
        "\n",
        "b1 = grid_depression.best_params_\n",
        "print(\"Best parameter: \",b1)\n",
        "\n",
        "p , r, f, _ = precision_recall_fscore_support(tr_y_2018, y_pred, average = 'macro', pos_label = 1)\n",
        "\n",
        "print(confusion_matrix(tr_y_2018, y_pred))\n",
        "print(metrics.classification_report(tr_y_2018,y_pred))\n",
        "\n",
        "\n",
        "\n",
        "[p,r,f]"
      ],
      "metadata": {
        "id": "gELt4_YI-VqU",
        "colab": {
          "base_uri": "https://localhost:8080/"
        },
        "outputId": "3ce50702-659f-4763-b100-5d44daa1dc0a"
      },
      "execution_count": 27,
      "outputs": [
        {
          "output_type": "stream",
          "name": "stdout",
          "text": [
            "Best parameter:  {'C': 0.05}\n",
            "[[716  25]\n",
            " [ 41  38]]\n",
            "              precision    recall  f1-score   support\n",
            "\n",
            "           0       0.95      0.97      0.96       741\n",
            "           1       0.60      0.48      0.54        79\n",
            "\n",
            "    accuracy                           0.92       820\n",
            "   macro avg       0.77      0.72      0.75       820\n",
            "weighted avg       0.91      0.92      0.92       820\n",
            "\n"
          ]
        },
        {
          "output_type": "execute_result",
          "data": {
            "text/plain": [
              "[0.7745067203455578, 0.7236372332974599, 0.7455762613061546]"
            ]
          },
          "metadata": {},
          "execution_count": 27
        }
      ]
    },
    {
      "cell_type": "markdown",
      "source": [
        "### Experiment 2 "
      ],
      "metadata": {
        "id": "OrSsg_Ld4ztT"
      }
    },
    {
      "cell_type": "code",
      "source": [
        "x_train2,y_train2, x_test2 = building_bow(data, labels, ntrain, 1,1,3200, tf_idf = True, norm = True, verbose = True)\n"
      ],
      "metadata": {
        "colab": {
          "base_uri": "https://localhost:8080/"
        },
        "id": "kkXg20R0JDM9",
        "outputId": "e0d03a45-8d4f-4795-cd04-ca40734f6bd0"
      },
      "execution_count": 28,
      "outputs": [
        {
          "output_type": "stream",
          "name": "stdout",
          "text": [
            "done in 20.983032s (887, 221702) (820, 221702)\n",
            "Extracting best features by a chi-squared test..  (887, 3200) (820, 3200)\n"
          ]
        }
      ]
    },
    {
      "cell_type": "code",
      "source": [
        "grid_depression.fit(x_train2, y_train2)\n",
        "\n",
        "y_pred2 = grid_depression.predict(x_test2)\n",
        "b2 = grid_depression.best_params_\n",
        "print(\"Best parameter: \", b2)\n",
        "p , r, f, _ = precision_recall_fscore_support(tr_y_2018, y_pred2, average = 'macro', pos_label = 1)\n",
        "\n",
        "print(confusion_matrix(tr_y_2018, y_pred2))\n",
        "print(metrics.classification_report(tr_y_2018,y_pred2))\n",
        "\n",
        "[p,r,f]\n"
      ],
      "metadata": {
        "colab": {
          "base_uri": "https://localhost:8080/"
        },
        "id": "vfvmkavAIOZx",
        "outputId": "e7f0f41f-bc53-445d-f6d9-dab52755e452"
      },
      "execution_count": 29,
      "outputs": [
        {
          "output_type": "stream",
          "name": "stdout",
          "text": [
            "Best parameter:  {'C': 1}\n",
            "[[713  28]\n",
            " [ 34  45]]\n",
            "              precision    recall  f1-score   support\n",
            "\n",
            "           0       0.95      0.96      0.96       741\n",
            "           1       0.62      0.57      0.59        79\n",
            "\n",
            "    accuracy                           0.92       820\n",
            "   macro avg       0.79      0.77      0.78       820\n",
            "weighted avg       0.92      0.92      0.92       820\n",
            "\n"
          ]
        },
        {
          "output_type": "execute_result",
          "data": {
            "text/plain": [
              "[0.7854614806256992, 0.7659167392678385, 0.7752192982456141]"
            ]
          },
          "metadata": {},
          "execution_count": 29
        }
      ]
    },
    {
      "cell_type": "markdown",
      "source": [
        "### Experiment 3"
      ],
      "metadata": {
        "id": "cSehs72A43xU"
      }
    },
    {
      "cell_type": "code",
      "source": [
        "x_train3,y_train3, x_test3 = building_bow(data, labels, ntrain, 1,1,100, stopwords = True, norm = True, verbose = True)"
      ],
      "metadata": {
        "colab": {
          "base_uri": "https://localhost:8080/"
        },
        "id": "PqUEiQJGe6t8",
        "outputId": "30336524-5b32-4246-c804-42d783065b6f"
      },
      "execution_count": 30,
      "outputs": [
        {
          "output_type": "stream",
          "name": "stdout",
          "text": [
            "done in 20.716018s (887, 221389) (820, 221389)\n",
            "Extracting best features by a chi-squared test..  (887, 100) (820, 100)\n"
          ]
        }
      ]
    },
    {
      "cell_type": "code",
      "source": [
        "grid_depression.fit(x_train3, y_train3)\n",
        "\n",
        "y_pred3 = grid_depression.predict(x_test3)\n",
        "b3 = grid_depression.best_params_\n",
        "print(\"Best parameter: \", b3)\n",
        "p , r, f, _ = precision_recall_fscore_support(tr_y_2018, y_pred3, average = 'macro', pos_label = 1)\n",
        "\n",
        "print(confusion_matrix(tr_y_2018, y_pred3))\n",
        "print(metrics.classification_report(tr_y_2018,y_pred3))\n",
        "\n",
        "[p,r,f]"
      ],
      "metadata": {
        "colab": {
          "base_uri": "https://localhost:8080/"
        },
        "id": "hdbWHDlJqAzQ",
        "outputId": "55de8292-e0ac-42c3-f1e5-7fe036fd812f"
      },
      "execution_count": 31,
      "outputs": [
        {
          "output_type": "stream",
          "name": "stdout",
          "text": [
            "Best parameter:  {'C': 2}\n",
            "[[706  35]\n",
            " [ 25  54]]\n",
            "              precision    recall  f1-score   support\n",
            "\n",
            "           0       0.97      0.95      0.96       741\n",
            "           1       0.61      0.68      0.64        79\n",
            "\n",
            "    accuracy                           0.93       820\n",
            "   macro avg       0.79      0.82      0.80       820\n",
            "weighted avg       0.93      0.93      0.93       820\n",
            "\n"
          ]
        },
        {
          "output_type": "execute_result",
          "data": {
            "text/plain": [
              "[0.7862709233157595, 0.8181554177556842, 0.8010481366459627]"
            ]
          },
          "metadata": {},
          "execution_count": 31
        }
      ]
    },
    {
      "cell_type": "markdown",
      "source": [
        "### Experiment 4"
      ],
      "metadata": {
        "id": "Fe-r-CwFsCUq"
      }
    },
    {
      "cell_type": "code",
      "source": [
        "x_train4,y_train4, x_test4 = building_bow(data, labels, ntrain, 2,2,3000, stopwords = True, norm = True, verbose = True)\n",
        "grid_depression.fit(x_train4, y_train4)\n",
        "\n",
        "y_pred4 = grid_depression.predict(x_test4)\n",
        "b4 = grid_depression.best_params_\n",
        "print(\"Best parameter: \", b4)\n",
        "p , r, f, _ = precision_recall_fscore_support(tr_y_2018, y_pred4, average = 'macro', pos_label = 1)\n",
        "\n",
        "print(confusion_matrix(tr_y_2018, y_pred4))\n",
        "print(metrics.classification_report(tr_y_2018,y_pred4))\n",
        "\n",
        "[p,r,f]"
      ],
      "metadata": {
        "colab": {
          "base_uri": "https://localhost:8080/"
        },
        "id": "09cM-4HEsFx6",
        "outputId": "722813f5-88bb-4cc7-84be-ad50c9d15993"
      },
      "execution_count": 32,
      "outputs": [
        {
          "output_type": "stream",
          "name": "stdout",
          "text": [
            "done in 58.428690s (887, 3794417) (820, 3794417)\n",
            "Extracting best features by a chi-squared test..  (887, 3000) (820, 3000)\n",
            "Best parameter:  {'C': 4}\n",
            "[[708  33]\n",
            " [ 28  51]]\n",
            "              precision    recall  f1-score   support\n",
            "\n",
            "           0       0.96      0.96      0.96       741\n",
            "           1       0.61      0.65      0.63        79\n",
            "\n",
            "    accuracy                           0.93       820\n",
            "   macro avg       0.78      0.80      0.79       820\n",
            "weighted avg       0.93      0.93      0.93       820\n",
            "\n"
          ]
        },
        {
          "output_type": "execute_result",
          "data": {
            "text/plain": [
              "[0.7845496894409938, 0.8005176036488495, 0.7922334694352255]"
            ]
          },
          "metadata": {},
          "execution_count": 32
        }
      ]
    },
    {
      "cell_type": "markdown",
      "source": [
        "### Experiment 5"
      ],
      "metadata": {
        "id": "1FUlIbeMfE8k"
      }
    },
    {
      "cell_type": "code",
      "source": [
        "x_train5,y_train5, x_test5 = building_bow(data, labels, ntrain, 2,2,3000, binary = True, norm = True, verbose = True)\n",
        "grid_depression.fit(x_train5, y_train5)\n",
        "\n",
        "y_pred5 = grid_depression.predict(x_test5)\n",
        "b5 = grid_depression.best_params_\n",
        "print(\"Best parameter: \", b5)\n",
        "p , r, f, _ = precision_recall_fscore_support(tr_y_2018, y_pred5, average = 'macro', pos_label = 1)\n",
        "\n",
        "print(confusion_matrix(tr_y_2018, y_pred5))\n",
        "print(metrics.classification_report(tr_y_2018,y_pred5))\n",
        "\n",
        "[p,r,f]"
      ],
      "metadata": {
        "colab": {
          "base_uri": "https://localhost:8080/"
        },
        "id": "KxU4hezX9_rZ",
        "outputId": "91f6a214-a638-4c90-f4d0-59b60b105900"
      },
      "execution_count": 33,
      "outputs": [
        {
          "output_type": "stream",
          "name": "stdout",
          "text": [
            "done in 62.532229s (887, 3165625) (820, 3165625)\n",
            "Extracting best features by a chi-squared test..  (887, 3000) (820, 3000)\n",
            "Best parameter:  {'C': 0.25}\n",
            "[[692  49]\n",
            " [ 46  33]]\n",
            "              precision    recall  f1-score   support\n",
            "\n",
            "           0       0.94      0.93      0.94       741\n",
            "           1       0.40      0.42      0.41        79\n",
            "\n",
            "    accuracy                           0.88       820\n",
            "   macro avg       0.67      0.68      0.67       820\n",
            "weighted avg       0.89      0.88      0.89       820\n",
            "\n"
          ]
        },
        {
          "output_type": "execute_result",
          "data": {
            "text/plain": [
              "[0.6700542005420054, 0.675797331693401, 0.6728526493055993]"
            ]
          },
          "metadata": {},
          "execution_count": 33
        }
      ]
    },
    {
      "cell_type": "markdown",
      "source": [
        "### Experiment 6"
      ],
      "metadata": {
        "id": "-bvBUJkW48CT"
      }
    },
    {
      "cell_type": "code",
      "source": [
        "x_train6,y_train6, x_test6 = building_bow(data, labels, ntrain, 2,2,500, tf_idf = True, norm = True, verbose = True)\n",
        "grid_depression.fit(x_train6, y_train6)\n",
        "\n",
        "y_pred6 = grid_depression.predict(x_test6)\n",
        "b6 = grid_depression.best_params_\n",
        "print(\"Best paramter: \", b6)\n",
        "p , r, f, _ = precision_recall_fscore_support(tr_y_2018, y_pred6, average = 'macro', pos_label = 1)\n",
        "\n",
        "print(confusion_matrix(tr_y_2018, y_pred6))\n",
        "print(metrics.classification_report(tr_y_2018,y_pred6))\n",
        "\n",
        "[p,r,f]"
      ],
      "metadata": {
        "colab": {
          "base_uri": "https://localhost:8080/"
        },
        "id": "SCPS7DmO496i",
        "outputId": "b673e0e4-2137-42ac-9fbd-87a11fdc151f"
      },
      "execution_count": 34,
      "outputs": [
        {
          "output_type": "stream",
          "name": "stdout",
          "text": [
            "done in 92.782883s (887, 3165625) (820, 3165625)\n",
            "Extracting best features by a chi-squared test..  (887, 500) (820, 500)\n",
            "Best paramter:  {'C': 4}\n",
            "[[700  41]\n",
            " [ 28  51]]\n",
            "              precision    recall  f1-score   support\n",
            "\n",
            "           0       0.96      0.94      0.95       741\n",
            "           1       0.55      0.65      0.60        79\n",
            "\n",
            "    accuracy                           0.92       820\n",
            "   macro avg       0.76      0.80      0.77       820\n",
            "weighted avg       0.92      0.92      0.92       820\n",
            "\n"
          ]
        },
        {
          "output_type": "execute_result",
          "data": {
            "text/plain": [
              "[0.7579431438127091, 0.7951194929875809, 0.774760249841759]"
            ]
          },
          "metadata": {},
          "execution_count": 34
        }
      ]
    },
    {
      "cell_type": "markdown",
      "source": [
        "### Experiment 7"
      ],
      "metadata": {
        "id": "bmzDvX8apIcR"
      }
    },
    {
      "cell_type": "code",
      "source": [
        "x_train7,y_train7, x_test7 = building_bow(data, labels, ntrain, 1,2,500, tf_idf = True, norm = True, verbose = True)\n",
        "grid_depression.fit(x_train7, y_train7)\n",
        "\n",
        "y_pred7 = grid_depression.predict(x_test7)\n",
        "b7 = grid_depression.best_params_\n",
        "print(\"Best paramter: \", b7)\n",
        "p , r, f, _ = precision_recall_fscore_support(tr_y_2018, y_pred7, average = 'macro', pos_label = 1)\n",
        "\n",
        "print(confusion_matrix(tr_y_2018, y_pred7))\n",
        "print(metrics.classification_report(tr_y_2018,y_pred7))\n",
        "\n",
        "[p,r,f]"
      ],
      "metadata": {
        "colab": {
          "base_uri": "https://localhost:8080/"
        },
        "id": "mJS2SOzKpIDp",
        "outputId": "3aee3832-25fe-4623-8bff-ea38c3c0904d"
      },
      "execution_count": 71,
      "outputs": [
        {
          "output_type": "stream",
          "name": "stdout",
          "text": [
            "done in 88.230246s (887, 3387327) (820, 3387327)\n",
            "Extracting best features by a chi-squared test..  (887, 500) (820, 500)\n",
            "Best paramter:  {'C': 2}\n",
            "[[710  31]\n",
            " [ 28  51]]\n",
            "              precision    recall  f1-score   support\n",
            "\n",
            "           0       0.96      0.96      0.96       741\n",
            "           1       0.62      0.65      0.63        79\n",
            "\n",
            "    accuracy                           0.93       820\n",
            "   macro avg       0.79      0.80      0.80       820\n",
            "weighted avg       0.93      0.93      0.93       820\n",
            "\n"
          ]
        },
        {
          "output_type": "execute_result",
          "data": {
            "text/plain": [
              "[0.7920054200542006, 0.8018671313141666, 0.7968242769371617]"
            ]
          },
          "metadata": {},
          "execution_count": 71
        }
      ]
    },
    {
      "cell_type": "markdown",
      "source": [
        "### Experiment 8 "
      ],
      "metadata": {
        "id": "FfNpaUeKp1Aj"
      }
    },
    {
      "cell_type": "code",
      "source": [
        "x_train8,y_train8, x_test8 = building_bow(data, labels, ntrain, 1,3,1500, tf_idf = True, norm = True, verbose = True)\n",
        "grid_depression.fit(x_train8, y_train8)\n",
        "\n",
        "y_pred8 = grid_depression.predict(x_test8)\n",
        "b8 = grid_depression.best_params_\n",
        "print(\"Best paramter: \", b8)\n",
        "p , r, f, _ = precision_recall_fscore_support(tr_y_2018, y_pred8, average = 'macro', pos_label = 1)\n",
        "\n",
        "print(confusion_matrix(tr_y_2018, y_pred8))\n",
        "print(metrics.classification_report(tr_y_2018,y_pred8))\n",
        "\n",
        "[p,r,f]"
      ],
      "metadata": {
        "colab": {
          "base_uri": "https://localhost:8080/"
        },
        "id": "5yeOeSb3yMfQ",
        "outputId": "be0a6f96-3ebc-4f47-c92f-c84f38c617e5"
      },
      "execution_count": 82,
      "outputs": [
        {
          "output_type": "stream",
          "name": "stdout",
          "text": [
            "done in 395.372621s (887, 11732715) (820, 11732715)\n",
            "Extracting best features by a chi-squared test..  (887, 1500) (820, 1500)\n",
            "Best paramter:  {'C': 2}\n",
            "[[696  45]\n",
            " [ 24  55]]\n",
            "              precision    recall  f1-score   support\n",
            "\n",
            "           0       0.97      0.94      0.95       741\n",
            "           1       0.55      0.70      0.61        79\n",
            "\n",
            "    accuracy                           0.92       820\n",
            "   macro avg       0.76      0.82      0.78       820\n",
            "weighted avg       0.93      0.92      0.92       820\n",
            "\n"
          ]
        },
        {
          "output_type": "execute_result",
          "data": {
            "text/plain": [
              "[0.7583333333333333, 0.8177368933531493, 0.7836486067933879]"
            ]
          },
          "metadata": {},
          "execution_count": 82
        }
      ]
    },
    {
      "cell_type": "markdown",
      "source": [
        "### Experiment 9 "
      ],
      "metadata": {
        "id": "n4HBT9Zlp3Ss"
      }
    },
    {
      "cell_type": "code",
      "source": [
        "x_train9,y_train9, x_test9 = building_bow(data, labels, ntrain, 2,3,50, tf_idf = True, norm = True, verbose = True)\n",
        "grid_depression.fit(x_train9, y_train9)\n",
        "\n",
        "y_pred9 = grid_depression.predict(x_test9)\n",
        "b9 = grid_depression.best_params_\n",
        "print(\"Best paramter: \", b9)\n",
        "p , r, f, _ = precision_recall_fscore_support(tr_y_2018, y_pred9, average = 'macro', pos_label = 1)\n",
        "\n",
        "print(confusion_matrix(tr_y_2018, y_pred9))\n",
        "print(metrics.classification_report(tr_y_2018,y_pred9))\n",
        "\n",
        "[p,r,f]"
      ],
      "metadata": {
        "colab": {
          "base_uri": "https://localhost:8080/"
        },
        "id": "bYqhWokUyeC9",
        "outputId": "aed762a4-111c-4290-81bc-4bdd766f7860"
      },
      "execution_count": 81,
      "outputs": [
        {
          "output_type": "stream",
          "name": "stdout",
          "text": [
            "done in 313.988091s (887, 11511013) (820, 11511013)\n",
            "Extracting best features by a chi-squared test..  (887, 50) (820, 50)\n",
            "Best paramter:  {'C': 2}\n",
            "[[690  51]\n",
            " [ 27  52]]\n",
            "              precision    recall  f1-score   support\n",
            "\n",
            "           0       0.96      0.93      0.95       741\n",
            "           1       0.50      0.66      0.57        79\n",
            "\n",
            "    accuracy                           0.90       820\n",
            "   macro avg       0.73      0.79      0.76       820\n",
            "weighted avg       0.92      0.90      0.91       820\n",
            "\n"
          ]
        },
        {
          "output_type": "execute_result",
          "data": {
            "text/plain": [
              "[0.7335987325831742, 0.7947009685850459, 0.75896531452087]"
            ]
          },
          "metadata": {},
          "execution_count": 81
        }
      ]
    },
    {
      "cell_type": "markdown",
      "source": [
        "### Experiment 10"
      ],
      "metadata": {
        "id": "ugVpCfj9p51j"
      }
    },
    {
      "cell_type": "code",
      "source": [
        "x_train10,y_train10, x_test10 = building_bow(data, labels, ntrain, 1,2,2500, stopwords = True, norm = True, verbose = True)\n",
        "grid_depression.fit(x_train10, y_train10)\n",
        "\n",
        "y_pred10 = grid_depression.predict(x_test10)\n",
        "b10 = grid_depression.best_params_\n",
        "print(\"Best paramter: \", b10)\n",
        "p , r, f, _ = precision_recall_fscore_support(tr_y_2018, y_pred10, average = 'macro', pos_label = 1)\n",
        "\n",
        "print(confusion_matrix(tr_y_2018, y_pred10))\n",
        "print(metrics.classification_report(tr_y_2018,y_pred10))\n",
        "\n",
        "[p,r,f]"
      ],
      "metadata": {
        "colab": {
          "base_uri": "https://localhost:8080/"
        },
        "id": "ZlYhdcIlPFBM",
        "outputId": "38ad86d4-6849-49e1-d777-5e87f93b702e"
      },
      "execution_count": 85,
      "outputs": [
        {
          "output_type": "stream",
          "name": "stdout",
          "text": [
            "done in 114.813317s (887, 4015806) (820, 4015806)\n",
            "Extracting best features by a chi-squared test..  (887, 2500) (820, 2500)\n",
            "Best paramter:  {'C': 4}\n",
            "[[690  51]\n",
            " [ 20  59]]\n",
            "              precision    recall  f1-score   support\n",
            "\n",
            "           0       0.97      0.93      0.95       741\n",
            "           1       0.54      0.75      0.62        79\n",
            "\n",
            "    accuracy                           0.91       820\n",
            "   macro avg       0.75      0.84      0.79       820\n",
            "weighted avg       0.93      0.91      0.92       820\n",
            "\n"
          ]
        },
        {
          "output_type": "execute_result",
          "data": {
            "text/plain": [
              "[0.7540973111395647, 0.8390047660534004, 0.7877034265731715]"
            ]
          },
          "metadata": {},
          "execution_count": 85
        }
      ]
    },
    {
      "cell_type": "markdown",
      "source": [
        "### Experiment 11"
      ],
      "metadata": {
        "id": "kM8VY5SfyY3Q"
      }
    },
    {
      "cell_type": "code",
      "source": [
        "x_train11,y_train11, x_test11 = building_bow(data, labels, ntrain, 1,3,4000, stopwords = True, norm = True, verbose = True)\n",
        "grid_depression.fit(x_train11, y_train11)\n",
        "\n",
        "y_pred11 = grid_depression.predict(x_test11)\n",
        "b11 = grid_depression.best_params_\n",
        "print(\"Best paramter: \", b11)\n",
        "p , r, f, _ = precision_recall_fscore_support(tr_y_2018, y_pred11, average = 'macro', pos_label = 1)\n",
        "\n",
        "print(confusion_matrix(tr_y_2018, y_pred11))\n",
        "print(metrics.classification_report(tr_y_2018,y_pred11))\n",
        "\n",
        "[p,r,f]"
      ],
      "metadata": {
        "colab": {
          "base_uri": "https://localhost:8080/"
        },
        "id": "ZMH4R9AjRo4H",
        "outputId": "b8fb221a-3e42-4d1c-b03e-05b8a19980ab"
      },
      "execution_count": 102,
      "outputs": [
        {
          "output_type": "stream",
          "name": "stdout",
          "text": [
            "done in 218.159567s (887, 9931300) (820, 9931300)\n",
            "Extracting best features by a chi-squared test..  (887, 4000) (820, 4000)\n",
            "Best paramter:  {'C': 4}\n",
            "[[629 112]\n",
            " [ 13  66]]\n",
            "              precision    recall  f1-score   support\n",
            "\n",
            "           0       0.98      0.85      0.91       741\n",
            "           1       0.37      0.84      0.51        79\n",
            "\n",
            "    accuracy                           0.85       820\n",
            "   macro avg       0.68      0.84      0.71       820\n",
            "weighted avg       0.92      0.85      0.87       820\n",
            "\n"
          ]
        },
        {
          "output_type": "execute_result",
          "data": {
            "text/plain": [
              "[0.675268647835066, 0.842147969729582, 0.711617726084669]"
            ]
          },
          "metadata": {},
          "execution_count": 102
        }
      ]
    },
    {
      "cell_type": "markdown",
      "source": [
        "### Experiment 12"
      ],
      "metadata": {
        "id": "XVMto2Y3ybgZ"
      }
    },
    {
      "cell_type": "code",
      "source": [
        "\n",
        "x_train12,y_train12, x_test12 = building_bow(data, labels, ntrain, 2,3,4000, stopwords = True, norm = True, verbose = True)\n",
        "grid_depression.fit(x_train12, y_train12)\n",
        "\n",
        "y_pred12 = grid_depression.predict(x_test12)\n",
        "b12 = grid_depression.best_params_\n",
        "print(\"Best paramter: \", b12)\n",
        "p , r, f, _ = precision_recall_fscore_support(tr_y_2018, y_pred12, average = 'macro', pos_label = 1)\n",
        "\n",
        "print(confusion_matrix(tr_y_2018, y_pred12))\n",
        "print(metrics.classification_report(tr_y_2018,y_pred12))\n",
        "\n",
        "[p,r,f]"
      ],
      "metadata": {
        "colab": {
          "base_uri": "https://localhost:8080/"
        },
        "id": "tCaIZy5tbItK",
        "outputId": "12b78d4d-8b54-4e0d-b49a-a7a66ae6bf66"
      },
      "execution_count": 101,
      "outputs": [
        {
          "output_type": "stream",
          "name": "stdout",
          "text": [
            "done in 183.319699s (887, 9709911) (820, 9709911)\n",
            "Extracting best features by a chi-squared test..  (887, 4000) (820, 4000)\n",
            "Best paramter:  {'C': 4}\n",
            "[[649  92]\n",
            " [ 17  62]]\n",
            "              precision    recall  f1-score   support\n",
            "\n",
            "           0       0.97      0.88      0.92       741\n",
            "           1       0.40      0.78      0.53        79\n",
            "\n",
            "    accuracy                           0.87       820\n",
            "   macro avg       0.69      0.83      0.73       820\n",
            "weighted avg       0.92      0.87      0.88       820\n",
            "\n"
          ]
        },
        {
          "output_type": "execute_result",
          "data": {
            "text/plain": [
              "[0.6885359385359385, 0.8303267906865508, 0.7273595236570062]"
            ]
          },
          "metadata": {},
          "execution_count": 101
        }
      ]
    },
    {
      "cell_type": "markdown",
      "source": [
        ""
      ],
      "metadata": {
        "id": "wyhn8sRUyeuT"
      }
    },
    {
      "cell_type": "markdown",
      "source": [
        "#Anorexia "
      ],
      "metadata": {
        "id": "tel5fqzcJ86d"
      }
    },
    {
      "cell_type": "code",
      "source": [
        "anxia_test = '/content/drive/MyDrive/Proyecto_Tecnologico/Data/Anorexia Datasets_1/test'\n",
        "anxia_train = '/content/drive/MyDrive/Proyecto_Tecnologico/Data/Anorexia Datasets_1/train'"
      ],
      "metadata": {
        "id": "j7z7zqhjJ8Yf"
      },
      "execution_count": 35,
      "outputs": []
    },
    {
      "cell_type": "markdown",
      "source": [
        "## Get training data"
      ],
      "metadata": {
        "id": "hXUkBUxIPFGY"
      }
    },
    {
      "cell_type": "code",
      "source": [
        "def get_text_chunk(path): \n",
        "    all_documents = [] #list with all the documents \n",
        "    all_label = [] #label \n",
        "\n",
        "    user_path = get_urls(path)\n",
        "    for i in range(len(user_path)): \n",
        "        subject = user_path[i] #for example test_subjet1005.xml \n",
        "        path_subject = path + '/' + subject \n",
        "        document = get_text_post_train(path_subject) #get document with all the history of a user \n",
        "\n",
        "        all_documents += [document] \n",
        "    return all_documents\n",
        "\n",
        "\n"
      ],
      "metadata": {
        "id": "-q9gYoKpL6RS"
      },
      "execution_count": 36,
      "outputs": []
    },
    {
      "cell_type": "code",
      "source": [
        "pos = 'positive_examples'\n",
        "neg = 'negative_examples'\n",
        "\n",
        "all_pos = []\n",
        "all_neg = []\n",
        "for i in range(1,11):\n",
        "    path_chunk_pos = anxia_train +'/' + pos + '/chunk'+str(i)\n",
        "    path_chunk_neg = anxia_train +'/' + neg + '/chunk'+str(i)\n",
        "\n",
        "    temp1 = get_text_chunk(path_chunk_pos)\n",
        "    temp2 = get_text_chunk(path_chunk_neg)\n",
        "    if i == 1: \n",
        "        all_pos = temp1\n",
        "        all_neg = temp2\n",
        "    else: \n",
        "        for j in range(len(temp1)):\n",
        "            all_pos[j] += temp1[j]\n",
        "    \n",
        "        for j in range(len(temp2)):\n",
        "            all_neg[j] += temp2[j]\n",
        "    "
      ],
      "metadata": {
        "id": "N_tI_bRaKzoy"
      },
      "execution_count": 37,
      "outputs": []
    },
    {
      "cell_type": "code",
      "source": [
        "tr_anorexia = [*all_pos, *all_neg]"
      ],
      "metadata": {
        "id": "SNzt4S_kNgdY"
      },
      "execution_count": 38,
      "outputs": []
    },
    {
      "cell_type": "code",
      "source": [
        "len(get_urls('/content/drive/MyDrive/Proyecto_Tecnologico/Data/Anorexia Datasets_1/train/negative_examples/chunk1'))"
      ],
      "metadata": {
        "colab": {
          "base_uri": "https://localhost:8080/"
        },
        "id": "XjLrbSMuKFro",
        "outputId": "2e15c779-2146-4713-e035-4eefcc2aa087"
      },
      "execution_count": 39,
      "outputs": [
        {
          "output_type": "execute_result",
          "data": {
            "text/plain": [
              "132"
            ]
          },
          "metadata": {},
          "execution_count": 39
        }
      ]
    },
    {
      "cell_type": "code",
      "source": [
        "tr_label = []\n",
        "for i in range(len(tr_anorexia)):\n",
        "    if i < 20: \n",
        "        tr_label.append(1)\n",
        "    else:\n",
        "        tr_label.append(0)"
      ],
      "metadata": {
        "id": "62f-s4rvN9B4"
      },
      "execution_count": 40,
      "outputs": []
    },
    {
      "cell_type": "markdown",
      "source": [
        "## Get test data"
      ],
      "metadata": {
        "id": "2WsWMMncPHrC"
      }
    },
    {
      "cell_type": "code",
      "source": [
        "test_url_anxia   = []\n",
        "test_labels_anxia = []\n",
        "\n",
        "with open('/content/drive/MyDrive/Proyecto_Tecnologico/Data/Anorexia Datasets_1/test/test_golden_truth.txt') as f:\n",
        "    lines = f.readlines()\n",
        "    for line in lines: \n",
        "\n",
        "        test_url_anxia.append(line[:-3]) #only the name of the subject \n",
        "\n",
        "        test_labels_anxia.append(int(line[-2:-1])) #only the label\n",
        "    f.close()"
      ],
      "metadata": {
        "id": "Bzbo5gR2P9qu"
      },
      "execution_count": 41,
      "outputs": []
    },
    {
      "cell_type": "code",
      "source": [
        "def get_text_test_anorexia(path, list_subject, chunk): \n",
        "    all_documents = [] #list with all the documents \n",
        "    all_label = [] #label \n",
        "\n",
        "    for i in range(len(list_subject)): \n",
        "        subject = list_subject[i] #for example test_subjet1005.xml \n",
        "        path_subject = path + '/chunk'+ str(chunk) + '/' + subject + '_' + str(chunk) + '.xml'\n",
        "        \n",
        "        document = get_text_post_train(path_subject) #get document with all the history of a user \n",
        "        \n",
        "        all_documents += [document] \n",
        "    print(\"text extracted for all users\")\n",
        "    return all_documents"
      ],
      "metadata": {
        "id": "r6Tqwof6Qq83"
      },
      "execution_count": 42,
      "outputs": []
    },
    {
      "cell_type": "code",
      "source": [
        "test_anxia = []\n",
        "for i in range(1,11):\n",
        "\n",
        "    temp1 = get_text_test_anorexia(anxia_test, test_url_anxia, i)\n",
        "\n",
        "    if i == 1: \n",
        "        test_anxia = temp1\n",
        "        print(\"Text extracted from chunk: \", i)\n",
        "    else: \n",
        "\n",
        "        for j in range(len(temp1)):\n",
        "            test_anxia[j] += temp1[j]\n",
        "        print(\"Text extracted from chunk: \", i)"
      ],
      "metadata": {
        "id": "6tBAwiH2O2Ah",
        "colab": {
          "base_uri": "https://localhost:8080/"
        },
        "outputId": "226bb022-7b4a-484f-ab69-88bc466e177e"
      },
      "execution_count": 43,
      "outputs": [
        {
          "output_type": "stream",
          "name": "stdout",
          "text": [
            "text extracted for all users\n",
            "Text extracted from chunk:  1\n",
            "text extracted for all users\n",
            "Text extracted from chunk:  2\n",
            "text extracted for all users\n",
            "Text extracted from chunk:  3\n",
            "text extracted for all users\n",
            "Text extracted from chunk:  4\n",
            "text extracted for all users\n",
            "Text extracted from chunk:  5\n",
            "text extracted for all users\n",
            "Text extracted from chunk:  6\n",
            "text extracted for all users\n",
            "Text extracted from chunk:  7\n",
            "text extracted for all users\n",
            "Text extracted from chunk:  8\n",
            "text extracted for all users\n",
            "Text extracted from chunk:  9\n",
            "text extracted for all users\n",
            "Text extracted from chunk:  10\n"
          ]
        }
      ]
    },
    {
      "cell_type": "markdown",
      "source": [
        "##Experiment"
      ],
      "metadata": {
        "id": "_DTrRsGRRk6k"
      }
    },
    {
      "cell_type": "code",
      "source": [
        "train_anxia = tr_anorexia\n",
        "test_anxia  = test_anxia\n",
        "\n",
        "labels_anxia = tr_label\n",
        "\n",
        "data_anxia = train_anxia + test_anxia\n",
        "ntrain_anxia = len(train_anxia)\n",
        "\n",
        "t0 = time()\n",
        "\n"
      ],
      "metadata": {
        "id": "1ntWWqDHPy8g"
      },
      "execution_count": 44,
      "outputs": []
    },
    {
      "cell_type": "code",
      "source": [
        "parameters = {'C': [.05, .12, .25, .5, 1, 2, 4]}\n",
        "\n",
        "svr = svm.LinearSVC(class_weight = 'balanced')\n",
        "grid_anorexia = GridSearchCV(estimator = svr, param_grid = parameters, n_jobs = 8, scoring = 'f1_macro', cv = 5)\n",
        "\n"
      ],
      "metadata": {
        "id": "INOuvSyiTalg"
      },
      "execution_count": 45,
      "outputs": []
    },
    {
      "cell_type": "code",
      "source": [
        "x_train_anxia1,y_anxia_1, x_test_anxia1 = building_bow(data_anxia,  labels_anxia, ntrain_anxia, 1,1,4000, \n",
        "                                                     binary = True, norm = True, verbose = True)"
      ],
      "metadata": {
        "colab": {
          "base_uri": "https://localhost:8080/"
        },
        "id": "jGyx35krRgUk",
        "outputId": "546e9049-ce6c-4a9f-b0cb-5c74d0c20768"
      },
      "execution_count": 46,
      "outputs": [
        {
          "output_type": "stream",
          "name": "stdout",
          "text": [
            "done in 4.323384s (152, 72757) (320, 72757)\n",
            "Extracting best features by a chi-squared test..  (152, 4000) (320, 4000)\n"
          ]
        }
      ]
    },
    {
      "cell_type": "markdown",
      "source": [
        "### Experiment 1"
      ],
      "metadata": {
        "id": "8fG0RapL0VEJ"
      }
    },
    {
      "cell_type": "code",
      "source": [
        "grid_anorexia.fit(x_train_anxia1, y_anxia_1)\n",
        "\n",
        "y_pred_anxia1 = grid_anorexia.predict(x_test_anxia1)\n",
        "a1 = grid_anorexia.best_params_\n",
        "print(\"Best paramter: \", a1)\n",
        "p , r, f, _ = precision_recall_fscore_support(test_labels_anxia, y_pred_anxia1, average = 'macro', pos_label = 1)\n",
        "\n",
        "print(confusion_matrix(test_labels_anxia, y_pred_anxia1))\n",
        "print(metrics.classification_report(test_labels_anxia,y_pred_anxia1))\n",
        "\n",
        "\n",
        "\n",
        "[p,r,f]"
      ],
      "metadata": {
        "colab": {
          "base_uri": "https://localhost:8080/"
        },
        "id": "qHwSbW1sU6s6",
        "outputId": "2c036d11-c46b-4efc-e2e4-99b8a9ab79a6"
      },
      "execution_count": 47,
      "outputs": [
        {
          "output_type": "stream",
          "name": "stdout",
          "text": [
            "Best paramter:  {'C': 0.05}\n",
            "[[276   3]\n",
            " [ 25  16]]\n",
            "              precision    recall  f1-score   support\n",
            "\n",
            "           0       0.92      0.99      0.95       279\n",
            "           1       0.84      0.39      0.53        41\n",
            "\n",
            "    accuracy                           0.91       320\n",
            "   macro avg       0.88      0.69      0.74       320\n",
            "weighted avg       0.91      0.91      0.90       320\n",
            "\n"
          ]
        },
        {
          "output_type": "execute_result",
          "data": {
            "text/plain": [
              "[0.8795243923762895, 0.6897456071334906, 0.7425287356321839]"
            ]
          },
          "metadata": {},
          "execution_count": 47
        }
      ]
    },
    {
      "cell_type": "markdown",
      "source": [
        "### Experiment 2"
      ],
      "metadata": {
        "id": "IT_3WHWt0Zgv"
      }
    },
    {
      "cell_type": "code",
      "source": [
        "x_train_anxia2,y_anxia_2, x_test_anxia2 = building_bow(data_anxia,  labels_anxia, ntrain_anxia, 1,1,2000, \n",
        "                                                     tf_idf = True, norm = True, verbose = True)\n"
      ],
      "metadata": {
        "colab": {
          "base_uri": "https://localhost:8080/"
        },
        "id": "XCjULVnTSke0",
        "outputId": "51289bdd-017c-4014-88b1-e78a20fd97fa"
      },
      "execution_count": 48,
      "outputs": [
        {
          "output_type": "stream",
          "name": "stdout",
          "text": [
            "done in 4.399583s (152, 72757) (320, 72757)\n",
            "Extracting best features by a chi-squared test..  (152, 2000) (320, 2000)\n"
          ]
        }
      ]
    },
    {
      "cell_type": "code",
      "source": [
        "grid_anorexia.fit(x_train_anxia2, y_anxia_2)\n",
        "\n",
        "y_pred_anxia2 = grid_anorexia.predict(x_test_anxia2)\n",
        "a2 = grid_anorexia.best_params_\n",
        "print(\"Best paramter: \", a2)\n",
        "p , r, f, _ = precision_recall_fscore_support(test_labels_anxia, y_pred_anxia2, average = 'macro', pos_label = 1)\n",
        "\n",
        "print(confusion_matrix(test_labels_anxia, y_pred_anxia2))\n",
        "print(metrics.classification_report(test_labels_anxia,y_pred_anxia2))\n",
        "[p,r,f]\n"
      ],
      "metadata": {
        "colab": {
          "base_uri": "https://localhost:8080/"
        },
        "id": "-6EttNk7VXlU",
        "outputId": "4c419316-6680-47fc-c29c-d9943cb1baf7"
      },
      "execution_count": 49,
      "outputs": [
        {
          "output_type": "stream",
          "name": "stdout",
          "text": [
            "Best paramter:  {'C': 0.05}\n",
            "[[277   2]\n",
            " [ 13  28]]\n",
            "              precision    recall  f1-score   support\n",
            "\n",
            "           0       0.96      0.99      0.97       279\n",
            "           1       0.93      0.68      0.79        41\n",
            "\n",
            "    accuracy                           0.95       320\n",
            "   macro avg       0.94      0.84      0.88       320\n",
            "weighted avg       0.95      0.95      0.95       320\n",
            "\n"
          ]
        },
        {
          "output_type": "execute_result",
          "data": {
            "text/plain": [
              "[0.9442528735632184, 0.8378791852434654, 0.881185177850937]"
            ]
          },
          "metadata": {},
          "execution_count": 49
        }
      ]
    },
    {
      "cell_type": "markdown",
      "source": [
        "### Experiment 3"
      ],
      "metadata": {
        "id": "B14r_V7E0bAh"
      }
    },
    {
      "cell_type": "code",
      "source": [
        "x_train_anxia3,y_anxia_3, x_test_anxia3 = building_bow(data_anxia, labels_anxia, ntrain_anxia,\n",
        "                                                     1,1,1400, stopwords = True, norm = True, verbose = True) #1400-2000 words has the same results \n"
      ],
      "metadata": {
        "colab": {
          "base_uri": "https://localhost:8080/"
        },
        "id": "d1tBb_2PTJ85",
        "outputId": "3b4680d7-a13c-48bf-8d29-0a16aa224a26"
      },
      "execution_count": 50,
      "outputs": [
        {
          "output_type": "stream",
          "name": "stdout",
          "text": [
            "done in 4.143907s (152, 72449) (320, 72449)\n",
            "Extracting best features by a chi-squared test..  (152, 1400) (320, 1400)\n"
          ]
        }
      ]
    },
    {
      "cell_type": "code",
      "source": [
        "grid_anorexia.fit(x_train_anxia3, y_anxia_3)\n",
        "\n",
        "y_pred_anxia3 = grid_anorexia.predict(x_test_anxia3)\n",
        "a3 = grid_anorexia.best_params_\n",
        "print(\"Best paramter: \", a3)\n",
        "p , r, f, _ = precision_recall_fscore_support(test_labels_anxia, y_pred_anxia3, average = 'macro', pos_label = 1)\n",
        "\n",
        "print(confusion_matrix(test_labels_anxia, y_pred_anxia3))\n",
        "print(metrics.classification_report(test_labels_anxia,y_pred_anxia3))\n",
        "[p,r,f]"
      ],
      "metadata": {
        "colab": {
          "base_uri": "https://localhost:8080/"
        },
        "id": "hAuNNwBRVmly",
        "outputId": "017614bf-5561-40e2-b0e6-c6bea3150002"
      },
      "execution_count": 51,
      "outputs": [
        {
          "output_type": "stream",
          "name": "stdout",
          "text": [
            "Best paramter:  {'C': 0.05}\n",
            "[[277   2]\n",
            " [ 13  28]]\n",
            "              precision    recall  f1-score   support\n",
            "\n",
            "           0       0.96      0.99      0.97       279\n",
            "           1       0.93      0.68      0.79        41\n",
            "\n",
            "    accuracy                           0.95       320\n",
            "   macro avg       0.94      0.84      0.88       320\n",
            "weighted avg       0.95      0.95      0.95       320\n",
            "\n"
          ]
        },
        {
          "output_type": "execute_result",
          "data": {
            "text/plain": [
              "[0.9442528735632184, 0.8378791852434654, 0.881185177850937]"
            ]
          },
          "metadata": {},
          "execution_count": 51
        }
      ]
    },
    {
      "cell_type": "markdown",
      "source": [
        "### Experiment 4"
      ],
      "metadata": {
        "id": "PTVJWjlj0cs_"
      }
    },
    {
      "cell_type": "code",
      "source": [
        "x_train_anxia4,y_anxia_4, x_test_anxia4= building_bow(data_anxia, labels_anxia, ntrain_anxia, \n",
        "                                                    2,2,1200, tf_idf = True, norm = True, verbose = True)\n"
      ],
      "metadata": {
        "colab": {
          "base_uri": "https://localhost:8080/"
        },
        "id": "gABIG0cTbYKT",
        "outputId": "28923663-9312-4d07-ff6e-5e5e9f4bb82b"
      },
      "execution_count": 52,
      "outputs": [
        {
          "output_type": "stream",
          "name": "stdout",
          "text": [
            "done in 12.989903s (152, 797263) (320, 797263)\n",
            "Extracting best features by a chi-squared test..  (152, 1200) (320, 1200)\n"
          ]
        }
      ]
    },
    {
      "cell_type": "code",
      "source": [
        "grid_anorexia.fit(x_train_anxia4, y_anxia_4)\n",
        "\n",
        "y_pred_anxia4 = grid_anorexia.predict(x_test_anxia4)\n",
        "a4 = grid_anorexia.best_params_\n",
        "print(\"Best paramter: \", a4)\n",
        "p , r, f, _ = precision_recall_fscore_support(test_labels_anxia, y_pred_anxia4, average = 'macro', pos_label = 1)\n",
        "\n",
        "print(confusion_matrix(test_labels_anxia, y_pred_anxia4))\n",
        "print(metrics.classification_report(test_labels_anxia,y_pred_anxia4))\n",
        "[p,r,f]"
      ],
      "metadata": {
        "colab": {
          "base_uri": "https://localhost:8080/"
        },
        "id": "Gd55DIiRVqV4",
        "outputId": "6ff08786-08a6-449f-e0b7-eed994f8923e"
      },
      "execution_count": 53,
      "outputs": [
        {
          "output_type": "stream",
          "name": "stdout",
          "text": [
            "Best paramter:  {'C': 4}\n",
            "[[278   1]\n",
            " [ 20  21]]\n",
            "              precision    recall  f1-score   support\n",
            "\n",
            "           0       0.93      1.00      0.96       279\n",
            "           1       0.95      0.51      0.67        41\n",
            "\n",
            "    accuracy                           0.93       320\n",
            "   macro avg       0.94      0.75      0.82       320\n",
            "weighted avg       0.94      0.93      0.93       320\n",
            "\n"
          ]
        },
        {
          "output_type": "execute_result",
          "data": {
            "text/plain": [
              "[0.9437156802928615, 0.7543054462802692, 0.8151357596764877]"
            ]
          },
          "metadata": {},
          "execution_count": 53
        }
      ]
    },
    {
      "cell_type": "markdown",
      "source": [
        "### Experiment 5"
      ],
      "metadata": {
        "id": "ifm5Qmw70edL"
      }
    },
    {
      "cell_type": "code",
      "source": [
        "x_train_anxia5,y_anxia_5, x_test_anxia5= building_bow(data_anxia, labels_anxia, ntrain_anxia, \n",
        "                                                    2,2,1500, binary = True, norm = True, verbose = True)"
      ],
      "metadata": {
        "colab": {
          "base_uri": "https://localhost:8080/"
        },
        "id": "tWPy32yrbaO3",
        "outputId": "3890fd31-0f3a-42e9-e5d3-b188b94f7a69"
      },
      "execution_count": 54,
      "outputs": [
        {
          "output_type": "stream",
          "name": "stdout",
          "text": [
            "done in 12.327697s (152, 797263) (320, 797263)\n",
            "Extracting best features by a chi-squared test..  (152, 1500) (320, 1500)\n"
          ]
        }
      ]
    },
    {
      "cell_type": "code",
      "source": [
        "\n",
        "grid_anorexia.fit(x_train_anxia5, y_anxia_5)\n",
        "\n",
        "y_pred_anxia5 = grid_anorexia.predict(x_test_anxia5)\n",
        "a5 = grid_anorexia.best_params_\n",
        "print(\"Best paramter: \", a5)\n",
        "p , r, f, _ = precision_recall_fscore_support(test_labels_anxia, y_pred_anxia5, average = 'macro', pos_label = 1)\n",
        "\n",
        "print(confusion_matrix(test_labels_anxia, y_pred_anxia5))\n",
        "print(metrics.classification_report(test_labels_anxia,y_pred_anxia5))\n",
        "[p,r,f]"
      ],
      "metadata": {
        "colab": {
          "base_uri": "https://localhost:8080/"
        },
        "id": "H8XQ5AANV_mV",
        "outputId": "33fed86a-c812-49ed-e22d-ade18b2a69dc"
      },
      "execution_count": 55,
      "outputs": [
        {
          "output_type": "stream",
          "name": "stdout",
          "text": [
            "Best paramter:  {'C': 4}\n",
            "[[276   3]\n",
            " [ 22  19]]\n",
            "              precision    recall  f1-score   support\n",
            "\n",
            "           0       0.93      0.99      0.96       279\n",
            "           1       0.86      0.46      0.60        41\n",
            "\n",
            "    accuracy                           0.92       320\n",
            "   macro avg       0.89      0.73      0.78       320\n",
            "weighted avg       0.92      0.92      0.91       320\n",
            "\n"
          ]
        },
        {
          "output_type": "execute_result",
          "data": {
            "text/plain": [
              "[0.8949054301403294, 0.7263309729871492, 0.77992352342439]"
            ]
          },
          "metadata": {},
          "execution_count": 55
        }
      ]
    },
    {
      "cell_type": "markdown",
      "source": [
        "### Experiment 6"
      ],
      "metadata": {
        "id": "QTPvhYkv0gi9"
      }
    },
    {
      "cell_type": "code",
      "source": [
        "x_train_anxia6,y_anxia_6, x_test_anxia6= building_bow(data_anxia, labels_anxia, ntrain_anxia, \n",
        "                                                    1,2,1200, binary = True, norm = True, verbose = True)"
      ],
      "metadata": {
        "colab": {
          "base_uri": "https://localhost:8080/"
        },
        "id": "STv0ND-fKXp0",
        "outputId": "c28b616c-5589-408e-93d9-bd220755b63d"
      },
      "execution_count": 56,
      "outputs": [
        {
          "output_type": "stream",
          "name": "stdout",
          "text": [
            "done in 15.673727s (152, 870020) (320, 870020)\n",
            "Extracting best features by a chi-squared test..  (152, 1200) (320, 1200)\n"
          ]
        }
      ]
    },
    {
      "cell_type": "code",
      "source": [
        "\n",
        "grid_anorexia.fit(x_train_anxia6, y_anxia_6)\n",
        "\n",
        "y_pred_anxia6 = grid_anorexia.predict(x_test_anxia6)\n",
        "a6 = grid_anorexia.best_params_\n",
        "print(\"Best paramter: \", a6)\n",
        "p , r, f, _ = precision_recall_fscore_support(test_labels_anxia, y_pred_anxia6, average = 'macro', pos_label = 1)\n",
        "\n",
        "print(confusion_matrix(test_labels_anxia, y_pred_anxia6))\n",
        "print(metrics.classification_report(test_labels_anxia,y_pred_anxia6))\n",
        "\n",
        "[p,r,f]"
      ],
      "metadata": {
        "colab": {
          "base_uri": "https://localhost:8080/"
        },
        "id": "bTcY-PjWKgTS",
        "outputId": "98778cd1-623a-4f1f-8777-3c9dbd7e700e"
      },
      "execution_count": 57,
      "outputs": [
        {
          "output_type": "stream",
          "name": "stdout",
          "text": [
            "Best paramter:  {'C': 4}\n",
            "[[277   2]\n",
            " [ 22  19]]\n",
            "              precision    recall  f1-score   support\n",
            "\n",
            "           0       0.93      0.99      0.96       279\n",
            "           1       0.90      0.46      0.61        41\n",
            "\n",
            "    accuracy                           0.93       320\n",
            "   macro avg       0.92      0.73      0.79       320\n",
            "weighted avg       0.92      0.93      0.91       320\n",
            "\n"
          ]
        },
        {
          "output_type": "execute_result",
          "data": {
            "text/plain": [
              "[0.9155916547220895, 0.7281230876824898, 0.7856903672284854]"
            ]
          },
          "metadata": {},
          "execution_count": 57
        }
      ]
    },
    {
      "cell_type": "markdown",
      "source": [
        "### Experiment  7"
      ],
      "metadata": {
        "id": "Y9kBczkZ0kfE"
      }
    },
    {
      "cell_type": "code",
      "source": [
        "x_train_anxia7,y_anxia_7, x_test_anxia7= building_bow(data_anxia, labels_anxia, ntrain_anxia, \n",
        "                                                    1,2,1500, tf_idf = True, norm = True, verbose = True)"
      ],
      "metadata": {
        "colab": {
          "base_uri": "https://localhost:8080/"
        },
        "id": "FSdUK7dhNMkd",
        "outputId": "2bffe2c7-d4d4-499c-ad13-e2d47e695320"
      },
      "execution_count": 58,
      "outputs": [
        {
          "output_type": "stream",
          "name": "stdout",
          "text": [
            "done in 16.056752s (152, 870020) (320, 870020)\n",
            "Extracting best features by a chi-squared test..  (152, 1500) (320, 1500)\n"
          ]
        }
      ]
    },
    {
      "cell_type": "code",
      "source": [
        "\n",
        "grid_anorexia.fit(x_train_anxia7, y_anxia_7)\n",
        "\n",
        "y_pred_anxia7 = grid_anorexia.predict(x_test_anxia7)\n",
        "a7 = grid_anorexia.best_params_\n",
        "print(\"Best paramter: \", a7)\n",
        "p , r, f, _ = precision_recall_fscore_support(test_labels_anxia, y_pred_anxia7, average = 'macro', pos_label = 1)\n",
        "\n",
        "print(confusion_matrix(test_labels_anxia, y_pred_anxia7))\n",
        "print(metrics.classification_report(test_labels_anxia,y_pred_anxia7))\n",
        "\n",
        "[p,r,f]"
      ],
      "metadata": {
        "colab": {
          "base_uri": "https://localhost:8080/"
        },
        "id": "uXblzMTgOynw",
        "outputId": "0cd9f7a3-ced3-4a2d-cbb9-6484de503d6a"
      },
      "execution_count": 59,
      "outputs": [
        {
          "output_type": "stream",
          "name": "stdout",
          "text": [
            "Best paramter:  {'C': 4}\n",
            "[[276   3]\n",
            " [ 15  26]]\n",
            "              precision    recall  f1-score   support\n",
            "\n",
            "           0       0.95      0.99      0.97       279\n",
            "           1       0.90      0.63      0.74        41\n",
            "\n",
            "    accuracy                           0.94       320\n",
            "   macro avg       0.92      0.81      0.86       320\n",
            "weighted avg       0.94      0.94      0.94       320\n",
            "\n"
          ]
        },
        {
          "output_type": "execute_result",
          "data": {
            "text/plain": [
              "[0.9225026661926768, 0.8116968266456859, 0.8556390977443609]"
            ]
          },
          "metadata": {},
          "execution_count": 59
        }
      ]
    },
    {
      "cell_type": "markdown",
      "source": [
        "### Experiment 8"
      ],
      "metadata": {
        "id": "Kyi3CL7c0mLF"
      }
    },
    {
      "cell_type": "code",
      "source": [
        "x_train_anxia8,y_anxia_8, x_test_anxia8= building_bow(data_anxia, labels_anxia, ntrain_anxia, \n",
        "                                                    1,3,1500, tf_idf = True, norm = True, verbose = True)\n",
        "\n",
        "\n",
        "grid_anorexia.fit(x_train_anxia8, y_anxia_8)\n",
        "\n",
        "y_pred_anxia8 = grid_anorexia.predict(x_test_anxia8)\n",
        "a8 = grid_anorexia.best_params_\n",
        "print(\"Best paramter: \", a8)\n",
        "p , r, f, _ = precision_recall_fscore_support(test_labels_anxia, y_pred_anxia8, average = 'macro', pos_label = 1)\n",
        "\n",
        "print(confusion_matrix(test_labels_anxia, y_pred_anxia8))\n",
        "print(metrics.classification_report(test_labels_anxia,y_pred_anxia8))\n",
        "\n",
        "[p,r,f]"
      ],
      "metadata": {
        "colab": {
          "base_uri": "https://localhost:8080/"
        },
        "id": "WskjolavO8SR",
        "outputId": "eeef94e1-ed4c-4879-b0c7-e82bfd890654"
      },
      "execution_count": 60,
      "outputs": [
        {
          "output_type": "stream",
          "name": "stdout",
          "text": [
            "done in 35.530946s (152, 2561230) (320, 2561230)\n",
            "Extracting best features by a chi-squared test..  (152, 1500) (320, 1500)\n",
            "Best paramter:  {'C': 4}\n",
            "[[275   4]\n",
            " [ 11  30]]\n",
            "              precision    recall  f1-score   support\n",
            "\n",
            "           0       0.96      0.99      0.97       279\n",
            "           1       0.88      0.73      0.80        41\n",
            "\n",
            "    accuracy                           0.95       320\n",
            "   macro avg       0.92      0.86      0.89       320\n",
            "weighted avg       0.95      0.95      0.95       320\n",
            "\n"
          ]
        },
        {
          "output_type": "execute_result",
          "data": {
            "text/plain": [
              "[0.9219457013574661, 0.8586851997552234, 0.8867256637168142]"
            ]
          },
          "metadata": {},
          "execution_count": 60
        }
      ]
    },
    {
      "cell_type": "markdown",
      "source": [
        "### Experiment 9"
      ],
      "metadata": {
        "id": "vmpgqeH10nnZ"
      }
    },
    {
      "cell_type": "code",
      "source": [
        "x_train_anxia9,y_anxia_9, x_test_anxia9= building_bow(data_anxia, labels_anxia, ntrain_anxia, \n",
        "                                                    1,3,1500, binary= True, norm = True, verbose = True)\n",
        "\n",
        "\n",
        "grid_anorexia.fit(x_train_anxia9, y_anxia_9)\n",
        "\n",
        "y_pred_anxia9 = grid_anorexia.predict(x_test_anxia9)\n",
        "a9 = grid_anorexia.best_params_\n",
        "print(\"Best paramter: \", a9)\n",
        "p , r, f, _ = precision_recall_fscore_support(test_labels_anxia, y_pred_anxia9, average = 'macro', pos_label = 1)\n",
        "\n",
        "print(confusion_matrix(test_labels_anxia, y_pred_anxia9))\n",
        "print(metrics.classification_report(test_labels_anxia,y_pred_anxia9))\n",
        "\n",
        "[p,r,f]"
      ],
      "metadata": {
        "colab": {
          "base_uri": "https://localhost:8080/"
        },
        "id": "Zag4deHuSCNl",
        "outputId": "64427b28-59ed-4cd0-cbfd-69c685c03a38"
      },
      "execution_count": 61,
      "outputs": [
        {
          "output_type": "stream",
          "name": "stdout",
          "text": [
            "done in 32.485133s (152, 2561230) (320, 2561230)\n",
            "Extracting best features by a chi-squared test..  (152, 1500) (320, 1500)\n",
            "Best paramter:  {'C': 0.05}\n",
            "[[276   3]\n",
            " [ 23  18]]\n",
            "              precision    recall  f1-score   support\n",
            "\n",
            "           0       0.92      0.99      0.96       279\n",
            "           1       0.86      0.44      0.58        41\n",
            "\n",
            "    accuracy                           0.92       320\n",
            "   macro avg       0.89      0.71      0.77       320\n",
            "weighted avg       0.91      0.92      0.91       320\n",
            "\n"
          ]
        },
        {
          "output_type": "execute_result",
          "data": {
            "text/plain": [
              "[0.8901098901098901, 0.7141358510359297, 0.7678312311641924]"
            ]
          },
          "metadata": {},
          "execution_count": 61
        }
      ]
    },
    {
      "cell_type": "markdown",
      "source": [
        "### Experiment 10"
      ],
      "metadata": {
        "id": "tNc5TMSu0ozx"
      }
    },
    {
      "cell_type": "code",
      "source": [
        "x_train_anxia10,y_anxia_10, x_test_anxia10= building_bow(data_anxia, labels_anxia, ntrain_anxia, \n",
        "                                                    2,3,1500, binary= True, norm = True, verbose = True)\n",
        "\n",
        "\n",
        "grid_anorexia.fit(x_train_anxia10, y_anxia_10)\n",
        "\n",
        "y_pred_anxia10 = grid_anorexia.predict(x_test_anxia10)\n",
        "a10 = grid_anorexia.best_params_\n",
        "print(\"Best paramter: \", a10)\n",
        "p , r, f, _ = precision_recall_fscore_support(test_labels_anxia, y_pred_anxia10, average = 'macro', pos_label = 1)\n",
        "\n",
        "print(confusion_matrix(test_labels_anxia, y_pred_anxia10))\n",
        "print(metrics.classification_report(test_labels_anxia,y_pred_anxia10))\n",
        "\n",
        "[p,r,f]"
      ],
      "metadata": {
        "colab": {
          "base_uri": "https://localhost:8080/"
        },
        "id": "3K2EdxzeSPjM",
        "outputId": "6a0ac58a-36da-43b1-a36a-e0403aad14c0"
      },
      "execution_count": 62,
      "outputs": [
        {
          "output_type": "stream",
          "name": "stdout",
          "text": [
            "done in 30.543480s (152, 2488473) (320, 2488473)\n",
            "Extracting best features by a chi-squared test..  (152, 1500) (320, 1500)\n",
            "Best paramter:  {'C': 0.12}\n",
            "[[277   2]\n",
            " [ 25  16]]\n",
            "              precision    recall  f1-score   support\n",
            "\n",
            "           0       0.92      0.99      0.95       279\n",
            "           1       0.89      0.39      0.54        41\n",
            "\n",
            "    accuracy                           0.92       320\n",
            "   macro avg       0.90      0.69      0.75       320\n",
            "weighted avg       0.91      0.92      0.90       320\n",
            "\n"
          ]
        },
        {
          "output_type": "execute_result",
          "data": {
            "text/plain": [
              "[0.9030537159676233, 0.6915377218288312, 0.7479506403337322]"
            ]
          },
          "metadata": {},
          "execution_count": 62
        }
      ]
    },
    {
      "cell_type": "markdown",
      "source": [
        "### Experiment 11"
      ],
      "metadata": {
        "id": "4emZcZDn0qRN"
      }
    },
    {
      "cell_type": "code",
      "source": [
        "x_train_anxia11,y_anxia_11, x_test_anxia11= building_bow(data_anxia, labels_anxia, ntrain_anxia, \n",
        "                                                    2,3,1500, tf_idf= True, norm = True, verbose = True)\n",
        "\n",
        "\n",
        "grid_anorexia.fit(x_train_anxia11, y_anxia_11)\n",
        "\n",
        "y_pred_anxia11 = grid_anorexia.predict(x_test_anxia11)\n",
        "a11 = grid_anorexia.best_params_\n",
        "print(\"Best paramter: \", a11)\n",
        "p , r, f, _ = precision_recall_fscore_support(test_labels_anxia, y_pred_anxia11, average = 'macro', pos_label = 1)\n",
        "\n",
        "print(confusion_matrix(test_labels_anxia, y_pred_anxia11))\n",
        "print(metrics.classification_report(test_labels_anxia,y_pred_anxia11))\n",
        "\n",
        "[p,r,f]"
      ],
      "metadata": {
        "colab": {
          "base_uri": "https://localhost:8080/"
        },
        "id": "A8aLGmfTUCRy",
        "outputId": "038437d3-9d56-4e49-f850-87469b32e547"
      },
      "execution_count": 63,
      "outputs": [
        {
          "output_type": "stream",
          "name": "stdout",
          "text": [
            "done in 30.993291s (152, 2488473) (320, 2488473)\n",
            "Extracting best features by a chi-squared test..  (152, 1500) (320, 1500)\n",
            "Best paramter:  {'C': 4}\n",
            "[[277   2]\n",
            " [ 17  24]]\n",
            "              precision    recall  f1-score   support\n",
            "\n",
            "           0       0.94      0.99      0.97       279\n",
            "           1       0.92      0.59      0.72        41\n",
            "\n",
            "    accuracy                           0.94       320\n",
            "   macro avg       0.93      0.79      0.84       320\n",
            "weighted avg       0.94      0.94      0.93       320\n",
            "\n"
          ]
        },
        {
          "output_type": "execute_result",
          "data": {
            "text/plain": [
              "[0.9326268969126112, 0.7890986974385873, 0.841629548592118]"
            ]
          },
          "metadata": {},
          "execution_count": 63
        }
      ]
    },
    {
      "cell_type": "markdown",
      "source": [
        "### Experiment 12"
      ],
      "metadata": {
        "id": "Y6yYO8NO0rnq"
      }
    },
    {
      "cell_type": "code",
      "source": [
        "x_train_anxia12,y_anxia_12, x_test_anxia12= building_bow(data_anxia, labels_anxia, ntrain_anxia, \n",
        "                                                    1,2,1500, stopwords = True, norm = True, verbose = True)\n",
        "\n",
        "\n",
        "grid_anorexia.fit(x_train_anxia12, y_anxia_12)\n",
        "\n",
        "y_pred_anxia12 = grid_anorexia.predict(x_test_anxia12)\n",
        "a12 = grid_anorexia.best_params_\n",
        "print(\"Best paramter: \", a12)\n",
        "p , r, f, _ = precision_recall_fscore_support(test_labels_anxia, y_pred_anxia12, average = 'macro', pos_label = 1)\n",
        "\n",
        "print(confusion_matrix(test_labels_anxia, y_pred_anxia12))\n",
        "print(metrics.classification_report(test_labels_anxia,y_pred_anxia12))\n",
        "\n",
        "[p,r,f]"
      ],
      "metadata": {
        "colab": {
          "base_uri": "https://localhost:8080/"
        },
        "id": "i06mBz5CUY2V",
        "outputId": "e425a7a0-b595-4c21-b4e0-3a6829590aec"
      },
      "execution_count": 64,
      "outputs": [
        {
          "output_type": "stream",
          "name": "stdout",
          "text": [
            "done in 11.761235s (152, 869738) (320, 869738)\n",
            "Extracting best features by a chi-squared test..  (152, 1500) (320, 1500)\n",
            "Best paramter:  {'C': 4}\n",
            "[[276   3]\n",
            " [ 10  31]]\n",
            "              precision    recall  f1-score   support\n",
            "\n",
            "           0       0.97      0.99      0.98       279\n",
            "           1       0.91      0.76      0.83        41\n",
            "\n",
            "    accuracy                           0.96       320\n",
            "   macro avg       0.94      0.87      0.90       320\n",
            "weighted avg       0.96      0.96      0.96       320\n",
            "\n"
          ]
        },
        {
          "output_type": "execute_result",
          "data": {
            "text/plain": [
              "[0.9383998354586589, 0.8726724364017834, 0.9018289085545722]"
            ]
          },
          "metadata": {},
          "execution_count": 64
        }
      ]
    },
    {
      "cell_type": "markdown",
      "source": [
        "### Experiment 13"
      ],
      "metadata": {
        "id": "medwI5Yq0tF1"
      }
    },
    {
      "cell_type": "code",
      "source": [
        "x_train_anxia13,y_anxia_13, x_test_anxia13= building_bow(data_anxia, labels_anxia, ntrain_anxia, \n",
        "                                                    2,3,1500, stopwords = True, norm = True, verbose = True)\n",
        "\n",
        "\n",
        "grid_anorexia.fit(x_train_anxia13, y_anxia_13)\n",
        "\n",
        "y_pred_anxia13 = grid_anorexia.predict(x_test_anxia13)\n",
        "a13 = grid_anorexia.best_params_\n",
        "print(\"Best paramter: \", a13)\n",
        "p , r, f, _ = precision_recall_fscore_support(test_labels_anxia, y_pred_anxia13, average = 'macro', pos_label = 1)\n",
        "\n",
        "print(confusion_matrix(test_labels_anxia, y_pred_anxia13))\n",
        "print(metrics.classification_report(test_labels_anxia,y_pred_anxia13))\n",
        "\n",
        "[p,r,f]"
      ],
      "metadata": {
        "colab": {
          "base_uri": "https://localhost:8080/"
        },
        "id": "cJ2KRWExVltP",
        "outputId": "11a4456d-d116-4b14-c003-90edfaf90f6a"
      },
      "execution_count": 65,
      "outputs": [
        {
          "output_type": "stream",
          "name": "stdout",
          "text": [
            "done in 18.029520s (152, 1839157) (320, 1839157)\n",
            "Extracting best features by a chi-squared test..  (152, 1500) (320, 1500)\n",
            "Best paramter:  {'C': 4}\n",
            "[[277   2]\n",
            " [ 16  25]]\n",
            "              precision    recall  f1-score   support\n",
            "\n",
            "           0       0.95      0.99      0.97       279\n",
            "           1       0.93      0.61      0.74        41\n",
            "\n",
            "    accuracy                           0.94       320\n",
            "   macro avg       0.94      0.80      0.85       320\n",
            "weighted avg       0.94      0.94      0.94       320\n",
            "\n"
          ]
        },
        {
          "output_type": "execute_result",
          "data": {
            "text/plain": [
              "[0.9356592086967513, 0.8012938193898068, 0.8519127930892637]"
            ]
          },
          "metadata": {},
          "execution_count": 65
        }
      ]
    },
    {
      "cell_type": "markdown",
      "source": [
        "# Using tests data 2022, ONLY POST not using comments"
      ],
      "metadata": {
        "id": "xk3kpMO-0uVB"
      }
    },
    {
      "cell_type": "code",
      "source": [
        ""
      ],
      "metadata": {
        "id": "z314B0QLcM4k"
      },
      "execution_count": 65,
      "outputs": []
    }
  ]
}